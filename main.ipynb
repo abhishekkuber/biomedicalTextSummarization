{
  "nbformat": 4,
  "nbformat_minor": 0,
  "metadata": {
    "colab": {
      "provenance": []
    },
    "kernelspec": {
      "name": "python3",
      "display_name": "Python 3"
    },
    "language_info": {
      "name": "python"
    },
    "widgets": {
      "application/vnd.jupyter.widget-state+json": {
        "15f243bcfceb4336ac1cbe0a7c42a114": {
          "model_module": "@jupyter-widgets/controls",
          "model_name": "HBoxModel",
          "model_module_version": "1.5.0",
          "state": {
            "_dom_classes": [],
            "_model_module": "@jupyter-widgets/controls",
            "_model_module_version": "1.5.0",
            "_model_name": "HBoxModel",
            "_view_count": null,
            "_view_module": "@jupyter-widgets/controls",
            "_view_module_version": "1.5.0",
            "_view_name": "HBoxView",
            "box_style": "",
            "children": [
              "IPY_MODEL_17acb9506f044ab4bab5f5c24ed94c2a",
              "IPY_MODEL_5407e587470f49f1b58430885aaed727",
              "IPY_MODEL_29840dd0afe74865bf96c1b4bfd2777d"
            ],
            "layout": "IPY_MODEL_1ef176e15e7f4806980ab29758f7bbe1"
          }
        },
        "17acb9506f044ab4bab5f5c24ed94c2a": {
          "model_module": "@jupyter-widgets/controls",
          "model_name": "HTMLModel",
          "model_module_version": "1.5.0",
          "state": {
            "_dom_classes": [],
            "_model_module": "@jupyter-widgets/controls",
            "_model_module_version": "1.5.0",
            "_model_name": "HTMLModel",
            "_view_count": null,
            "_view_module": "@jupyter-widgets/controls",
            "_view_module_version": "1.5.0",
            "_view_name": "HTMLView",
            "description": "",
            "description_tooltip": null,
            "layout": "IPY_MODEL_2e91b5447ea340618150329fbc04fe3b",
            "placeholder": "​",
            "style": "IPY_MODEL_52849f6484a04a95832e1ec10aa4b4ac",
            "value": "Downloading: 100%"
          }
        },
        "5407e587470f49f1b58430885aaed727": {
          "model_module": "@jupyter-widgets/controls",
          "model_name": "FloatProgressModel",
          "model_module_version": "1.5.0",
          "state": {
            "_dom_classes": [],
            "_model_module": "@jupyter-widgets/controls",
            "_model_module_version": "1.5.0",
            "_model_name": "FloatProgressModel",
            "_view_count": null,
            "_view_module": "@jupyter-widgets/controls",
            "_view_module_version": "1.5.0",
            "_view_name": "ProgressView",
            "bar_style": "success",
            "description": "",
            "description_tooltip": null,
            "layout": "IPY_MODEL_754cc03e066e44299f31795a5a84b1d5",
            "max": 213450,
            "min": 0,
            "orientation": "horizontal",
            "style": "IPY_MODEL_96887917fba64e5d94f4f7b213b6aa7b",
            "value": 213450
          }
        },
        "29840dd0afe74865bf96c1b4bfd2777d": {
          "model_module": "@jupyter-widgets/controls",
          "model_name": "HTMLModel",
          "model_module_version": "1.5.0",
          "state": {
            "_dom_classes": [],
            "_model_module": "@jupyter-widgets/controls",
            "_model_module_version": "1.5.0",
            "_model_name": "HTMLModel",
            "_view_count": null,
            "_view_module": "@jupyter-widgets/controls",
            "_view_module_version": "1.5.0",
            "_view_name": "HTMLView",
            "description": "",
            "description_tooltip": null,
            "layout": "IPY_MODEL_5f2d0ba4f9ce466fb3f236853f374547",
            "placeholder": "​",
            "style": "IPY_MODEL_e52a938b459b4e0cb7aa5edfa401bd7e",
            "value": " 208k/208k [00:00&lt;00:00, 330kB/s]"
          }
        },
        "1ef176e15e7f4806980ab29758f7bbe1": {
          "model_module": "@jupyter-widgets/base",
          "model_name": "LayoutModel",
          "model_module_version": "1.2.0",
          "state": {
            "_model_module": "@jupyter-widgets/base",
            "_model_module_version": "1.2.0",
            "_model_name": "LayoutModel",
            "_view_count": null,
            "_view_module": "@jupyter-widgets/base",
            "_view_module_version": "1.2.0",
            "_view_name": "LayoutView",
            "align_content": null,
            "align_items": null,
            "align_self": null,
            "border": null,
            "bottom": null,
            "display": null,
            "flex": null,
            "flex_flow": null,
            "grid_area": null,
            "grid_auto_columns": null,
            "grid_auto_flow": null,
            "grid_auto_rows": null,
            "grid_column": null,
            "grid_gap": null,
            "grid_row": null,
            "grid_template_areas": null,
            "grid_template_columns": null,
            "grid_template_rows": null,
            "height": null,
            "justify_content": null,
            "justify_items": null,
            "left": null,
            "margin": null,
            "max_height": null,
            "max_width": null,
            "min_height": null,
            "min_width": null,
            "object_fit": null,
            "object_position": null,
            "order": null,
            "overflow": null,
            "overflow_x": null,
            "overflow_y": null,
            "padding": null,
            "right": null,
            "top": null,
            "visibility": null,
            "width": null
          }
        },
        "2e91b5447ea340618150329fbc04fe3b": {
          "model_module": "@jupyter-widgets/base",
          "model_name": "LayoutModel",
          "model_module_version": "1.2.0",
          "state": {
            "_model_module": "@jupyter-widgets/base",
            "_model_module_version": "1.2.0",
            "_model_name": "LayoutModel",
            "_view_count": null,
            "_view_module": "@jupyter-widgets/base",
            "_view_module_version": "1.2.0",
            "_view_name": "LayoutView",
            "align_content": null,
            "align_items": null,
            "align_self": null,
            "border": null,
            "bottom": null,
            "display": null,
            "flex": null,
            "flex_flow": null,
            "grid_area": null,
            "grid_auto_columns": null,
            "grid_auto_flow": null,
            "grid_auto_rows": null,
            "grid_column": null,
            "grid_gap": null,
            "grid_row": null,
            "grid_template_areas": null,
            "grid_template_columns": null,
            "grid_template_rows": null,
            "height": null,
            "justify_content": null,
            "justify_items": null,
            "left": null,
            "margin": null,
            "max_height": null,
            "max_width": null,
            "min_height": null,
            "min_width": null,
            "object_fit": null,
            "object_position": null,
            "order": null,
            "overflow": null,
            "overflow_x": null,
            "overflow_y": null,
            "padding": null,
            "right": null,
            "top": null,
            "visibility": null,
            "width": null
          }
        },
        "52849f6484a04a95832e1ec10aa4b4ac": {
          "model_module": "@jupyter-widgets/controls",
          "model_name": "DescriptionStyleModel",
          "model_module_version": "1.5.0",
          "state": {
            "_model_module": "@jupyter-widgets/controls",
            "_model_module_version": "1.5.0",
            "_model_name": "DescriptionStyleModel",
            "_view_count": null,
            "_view_module": "@jupyter-widgets/base",
            "_view_module_version": "1.2.0",
            "_view_name": "StyleView",
            "description_width": ""
          }
        },
        "754cc03e066e44299f31795a5a84b1d5": {
          "model_module": "@jupyter-widgets/base",
          "model_name": "LayoutModel",
          "model_module_version": "1.2.0",
          "state": {
            "_model_module": "@jupyter-widgets/base",
            "_model_module_version": "1.2.0",
            "_model_name": "LayoutModel",
            "_view_count": null,
            "_view_module": "@jupyter-widgets/base",
            "_view_module_version": "1.2.0",
            "_view_name": "LayoutView",
            "align_content": null,
            "align_items": null,
            "align_self": null,
            "border": null,
            "bottom": null,
            "display": null,
            "flex": null,
            "flex_flow": null,
            "grid_area": null,
            "grid_auto_columns": null,
            "grid_auto_flow": null,
            "grid_auto_rows": null,
            "grid_column": null,
            "grid_gap": null,
            "grid_row": null,
            "grid_template_areas": null,
            "grid_template_columns": null,
            "grid_template_rows": null,
            "height": null,
            "justify_content": null,
            "justify_items": null,
            "left": null,
            "margin": null,
            "max_height": null,
            "max_width": null,
            "min_height": null,
            "min_width": null,
            "object_fit": null,
            "object_position": null,
            "order": null,
            "overflow": null,
            "overflow_x": null,
            "overflow_y": null,
            "padding": null,
            "right": null,
            "top": null,
            "visibility": null,
            "width": null
          }
        },
        "96887917fba64e5d94f4f7b213b6aa7b": {
          "model_module": "@jupyter-widgets/controls",
          "model_name": "ProgressStyleModel",
          "model_module_version": "1.5.0",
          "state": {
            "_model_module": "@jupyter-widgets/controls",
            "_model_module_version": "1.5.0",
            "_model_name": "ProgressStyleModel",
            "_view_count": null,
            "_view_module": "@jupyter-widgets/base",
            "_view_module_version": "1.2.0",
            "_view_name": "StyleView",
            "bar_color": null,
            "description_width": ""
          }
        },
        "5f2d0ba4f9ce466fb3f236853f374547": {
          "model_module": "@jupyter-widgets/base",
          "model_name": "LayoutModel",
          "model_module_version": "1.2.0",
          "state": {
            "_model_module": "@jupyter-widgets/base",
            "_model_module_version": "1.2.0",
            "_model_name": "LayoutModel",
            "_view_count": null,
            "_view_module": "@jupyter-widgets/base",
            "_view_module_version": "1.2.0",
            "_view_name": "LayoutView",
            "align_content": null,
            "align_items": null,
            "align_self": null,
            "border": null,
            "bottom": null,
            "display": null,
            "flex": null,
            "flex_flow": null,
            "grid_area": null,
            "grid_auto_columns": null,
            "grid_auto_flow": null,
            "grid_auto_rows": null,
            "grid_column": null,
            "grid_gap": null,
            "grid_row": null,
            "grid_template_areas": null,
            "grid_template_columns": null,
            "grid_template_rows": null,
            "height": null,
            "justify_content": null,
            "justify_items": null,
            "left": null,
            "margin": null,
            "max_height": null,
            "max_width": null,
            "min_height": null,
            "min_width": null,
            "object_fit": null,
            "object_position": null,
            "order": null,
            "overflow": null,
            "overflow_x": null,
            "overflow_y": null,
            "padding": null,
            "right": null,
            "top": null,
            "visibility": null,
            "width": null
          }
        },
        "e52a938b459b4e0cb7aa5edfa401bd7e": {
          "model_module": "@jupyter-widgets/controls",
          "model_name": "DescriptionStyleModel",
          "model_module_version": "1.5.0",
          "state": {
            "_model_module": "@jupyter-widgets/controls",
            "_model_module_version": "1.5.0",
            "_model_name": "DescriptionStyleModel",
            "_view_count": null,
            "_view_module": "@jupyter-widgets/base",
            "_view_module_version": "1.2.0",
            "_view_name": "StyleView",
            "description_width": ""
          }
        },
        "210e07d5f8fd4e3984d15d19878ea4a0": {
          "model_module": "@jupyter-widgets/controls",
          "model_name": "HBoxModel",
          "model_module_version": "1.5.0",
          "state": {
            "_dom_classes": [],
            "_model_module": "@jupyter-widgets/controls",
            "_model_module_version": "1.5.0",
            "_model_name": "HBoxModel",
            "_view_count": null,
            "_view_module": "@jupyter-widgets/controls",
            "_view_module_version": "1.5.0",
            "_view_name": "HBoxView",
            "box_style": "",
            "children": [
              "IPY_MODEL_6c0fa443a2994a90971dd6f906667c9c",
              "IPY_MODEL_e73b26596fbc4aa283c2ed63030eac27",
              "IPY_MODEL_be317706e6344edcab8caaca3bc1c020"
            ],
            "layout": "IPY_MODEL_1167d5b6e3fb442ca2c6129f9dd717e5"
          }
        },
        "6c0fa443a2994a90971dd6f906667c9c": {
          "model_module": "@jupyter-widgets/controls",
          "model_name": "HTMLModel",
          "model_module_version": "1.5.0",
          "state": {
            "_dom_classes": [],
            "_model_module": "@jupyter-widgets/controls",
            "_model_module_version": "1.5.0",
            "_model_name": "HTMLModel",
            "_view_count": null,
            "_view_module": "@jupyter-widgets/controls",
            "_view_module_version": "1.5.0",
            "_view_name": "HTMLView",
            "description": "",
            "description_tooltip": null,
            "layout": "IPY_MODEL_ed20d815253f403bb517d5464dcca15d",
            "placeholder": "​",
            "style": "IPY_MODEL_ab65fd3551644a15a477b44a78334a08",
            "value": "Downloading: 100%"
          }
        },
        "e73b26596fbc4aa283c2ed63030eac27": {
          "model_module": "@jupyter-widgets/controls",
          "model_name": "FloatProgressModel",
          "model_module_version": "1.5.0",
          "state": {
            "_dom_classes": [],
            "_model_module": "@jupyter-widgets/controls",
            "_model_module_version": "1.5.0",
            "_model_name": "FloatProgressModel",
            "_view_count": null,
            "_view_module": "@jupyter-widgets/controls",
            "_view_module_version": "1.5.0",
            "_view_name": "ProgressView",
            "bar_style": "success",
            "description": "",
            "description_tooltip": null,
            "layout": "IPY_MODEL_ed5ce95c592a4768b4de2a98d6e369b1",
            "max": 1110,
            "min": 0,
            "orientation": "horizontal",
            "style": "IPY_MODEL_4c5c07f430fd419686ee0ea5f4aa5606",
            "value": 1110
          }
        },
        "be317706e6344edcab8caaca3bc1c020": {
          "model_module": "@jupyter-widgets/controls",
          "model_name": "HTMLModel",
          "model_module_version": "1.5.0",
          "state": {
            "_dom_classes": [],
            "_model_module": "@jupyter-widgets/controls",
            "_model_module_version": "1.5.0",
            "_model_name": "HTMLModel",
            "_view_count": null,
            "_view_module": "@jupyter-widgets/controls",
            "_view_module_version": "1.5.0",
            "_view_name": "HTMLView",
            "description": "",
            "description_tooltip": null,
            "layout": "IPY_MODEL_9703455f867e47fc8553a2b82c6df2ff",
            "placeholder": "​",
            "style": "IPY_MODEL_7c1dc4b304524c989b7f95da33c03db4",
            "value": " 1.08k/1.08k [00:00&lt;00:00, 10.2kB/s]"
          }
        },
        "1167d5b6e3fb442ca2c6129f9dd717e5": {
          "model_module": "@jupyter-widgets/base",
          "model_name": "LayoutModel",
          "model_module_version": "1.2.0",
          "state": {
            "_model_module": "@jupyter-widgets/base",
            "_model_module_version": "1.2.0",
            "_model_name": "LayoutModel",
            "_view_count": null,
            "_view_module": "@jupyter-widgets/base",
            "_view_module_version": "1.2.0",
            "_view_name": "LayoutView",
            "align_content": null,
            "align_items": null,
            "align_self": null,
            "border": null,
            "bottom": null,
            "display": null,
            "flex": null,
            "flex_flow": null,
            "grid_area": null,
            "grid_auto_columns": null,
            "grid_auto_flow": null,
            "grid_auto_rows": null,
            "grid_column": null,
            "grid_gap": null,
            "grid_row": null,
            "grid_template_areas": null,
            "grid_template_columns": null,
            "grid_template_rows": null,
            "height": null,
            "justify_content": null,
            "justify_items": null,
            "left": null,
            "margin": null,
            "max_height": null,
            "max_width": null,
            "min_height": null,
            "min_width": null,
            "object_fit": null,
            "object_position": null,
            "order": null,
            "overflow": null,
            "overflow_x": null,
            "overflow_y": null,
            "padding": null,
            "right": null,
            "top": null,
            "visibility": null,
            "width": null
          }
        },
        "ed20d815253f403bb517d5464dcca15d": {
          "model_module": "@jupyter-widgets/base",
          "model_name": "LayoutModel",
          "model_module_version": "1.2.0",
          "state": {
            "_model_module": "@jupyter-widgets/base",
            "_model_module_version": "1.2.0",
            "_model_name": "LayoutModel",
            "_view_count": null,
            "_view_module": "@jupyter-widgets/base",
            "_view_module_version": "1.2.0",
            "_view_name": "LayoutView",
            "align_content": null,
            "align_items": null,
            "align_self": null,
            "border": null,
            "bottom": null,
            "display": null,
            "flex": null,
            "flex_flow": null,
            "grid_area": null,
            "grid_auto_columns": null,
            "grid_auto_flow": null,
            "grid_auto_rows": null,
            "grid_column": null,
            "grid_gap": null,
            "grid_row": null,
            "grid_template_areas": null,
            "grid_template_columns": null,
            "grid_template_rows": null,
            "height": null,
            "justify_content": null,
            "justify_items": null,
            "left": null,
            "margin": null,
            "max_height": null,
            "max_width": null,
            "min_height": null,
            "min_width": null,
            "object_fit": null,
            "object_position": null,
            "order": null,
            "overflow": null,
            "overflow_x": null,
            "overflow_y": null,
            "padding": null,
            "right": null,
            "top": null,
            "visibility": null,
            "width": null
          }
        },
        "ab65fd3551644a15a477b44a78334a08": {
          "model_module": "@jupyter-widgets/controls",
          "model_name": "DescriptionStyleModel",
          "model_module_version": "1.5.0",
          "state": {
            "_model_module": "@jupyter-widgets/controls",
            "_model_module_version": "1.5.0",
            "_model_name": "DescriptionStyleModel",
            "_view_count": null,
            "_view_module": "@jupyter-widgets/base",
            "_view_module_version": "1.2.0",
            "_view_name": "StyleView",
            "description_width": ""
          }
        },
        "ed5ce95c592a4768b4de2a98d6e369b1": {
          "model_module": "@jupyter-widgets/base",
          "model_name": "LayoutModel",
          "model_module_version": "1.2.0",
          "state": {
            "_model_module": "@jupyter-widgets/base",
            "_model_module_version": "1.2.0",
            "_model_name": "LayoutModel",
            "_view_count": null,
            "_view_module": "@jupyter-widgets/base",
            "_view_module_version": "1.2.0",
            "_view_name": "LayoutView",
            "align_content": null,
            "align_items": null,
            "align_self": null,
            "border": null,
            "bottom": null,
            "display": null,
            "flex": null,
            "flex_flow": null,
            "grid_area": null,
            "grid_auto_columns": null,
            "grid_auto_flow": null,
            "grid_auto_rows": null,
            "grid_column": null,
            "grid_gap": null,
            "grid_row": null,
            "grid_template_areas": null,
            "grid_template_columns": null,
            "grid_template_rows": null,
            "height": null,
            "justify_content": null,
            "justify_items": null,
            "left": null,
            "margin": null,
            "max_height": null,
            "max_width": null,
            "min_height": null,
            "min_width": null,
            "object_fit": null,
            "object_position": null,
            "order": null,
            "overflow": null,
            "overflow_x": null,
            "overflow_y": null,
            "padding": null,
            "right": null,
            "top": null,
            "visibility": null,
            "width": null
          }
        },
        "4c5c07f430fd419686ee0ea5f4aa5606": {
          "model_module": "@jupyter-widgets/controls",
          "model_name": "ProgressStyleModel",
          "model_module_version": "1.5.0",
          "state": {
            "_model_module": "@jupyter-widgets/controls",
            "_model_module_version": "1.5.0",
            "_model_name": "ProgressStyleModel",
            "_view_count": null,
            "_view_module": "@jupyter-widgets/base",
            "_view_module_version": "1.2.0",
            "_view_name": "StyleView",
            "bar_color": null,
            "description_width": ""
          }
        },
        "9703455f867e47fc8553a2b82c6df2ff": {
          "model_module": "@jupyter-widgets/base",
          "model_name": "LayoutModel",
          "model_module_version": "1.2.0",
          "state": {
            "_model_module": "@jupyter-widgets/base",
            "_model_module_version": "1.2.0",
            "_model_name": "LayoutModel",
            "_view_count": null,
            "_view_module": "@jupyter-widgets/base",
            "_view_module_version": "1.2.0",
            "_view_name": "LayoutView",
            "align_content": null,
            "align_items": null,
            "align_self": null,
            "border": null,
            "bottom": null,
            "display": null,
            "flex": null,
            "flex_flow": null,
            "grid_area": null,
            "grid_auto_columns": null,
            "grid_auto_flow": null,
            "grid_auto_rows": null,
            "grid_column": null,
            "grid_gap": null,
            "grid_row": null,
            "grid_template_areas": null,
            "grid_template_columns": null,
            "grid_template_rows": null,
            "height": null,
            "justify_content": null,
            "justify_items": null,
            "left": null,
            "margin": null,
            "max_height": null,
            "max_width": null,
            "min_height": null,
            "min_width": null,
            "object_fit": null,
            "object_position": null,
            "order": null,
            "overflow": null,
            "overflow_x": null,
            "overflow_y": null,
            "padding": null,
            "right": null,
            "top": null,
            "visibility": null,
            "width": null
          }
        },
        "7c1dc4b304524c989b7f95da33c03db4": {
          "model_module": "@jupyter-widgets/controls",
          "model_name": "DescriptionStyleModel",
          "model_module_version": "1.5.0",
          "state": {
            "_model_module": "@jupyter-widgets/controls",
            "_model_module_version": "1.5.0",
            "_model_name": "DescriptionStyleModel",
            "_view_count": null,
            "_view_module": "@jupyter-widgets/base",
            "_view_module_version": "1.2.0",
            "_view_name": "StyleView",
            "description_width": ""
          }
        }
      }
    }
  },
  "cells": [
    {
      "cell_type": "code",
      "execution_count": null,
      "metadata": {
        "colab": {
          "base_uri": "https://localhost:8080/"
        },
        "id": "4PQFN2T1LBRl",
        "outputId": "fdccf2ad-7ed1-4547-a911-c68484d285ff"
      },
      "outputs": [
        {
          "output_type": "stream",
          "name": "stdout",
          "text": [
            "Looking in indexes: https://pypi.org/simple, https://us-python.pkg.dev/colab-wheels/public/simple/\n",
            "Requirement already satisfied: rouge in /usr/local/lib/python3.7/dist-packages (1.0.1)\n",
            "Requirement already satisfied: transformers in /usr/local/lib/python3.7/dist-packages (4.19.2)\n",
            "Requirement already satisfied: summa in /usr/local/lib/python3.7/dist-packages (1.2.0)\n",
            "Requirement already satisfied: sumy in /usr/local/lib/python3.7/dist-packages (0.10.0)\n",
            "Requirement already satisfied: six in /usr/local/lib/python3.7/dist-packages (from rouge) (1.15.0)\n",
            "Requirement already satisfied: pyyaml>=5.1 in /usr/local/lib/python3.7/dist-packages (from transformers) (6.0)\n",
            "Requirement already satisfied: regex!=2019.12.17 in /usr/local/lib/python3.7/dist-packages (from transformers) (2019.12.20)\n",
            "Requirement already satisfied: tokenizers!=0.11.3,<0.13,>=0.11.1 in /usr/local/lib/python3.7/dist-packages (from transformers) (0.12.1)\n",
            "Requirement already satisfied: importlib-metadata in /usr/local/lib/python3.7/dist-packages (from transformers) (4.11.4)\n",
            "Requirement already satisfied: huggingface-hub<1.0,>=0.1.0 in /usr/local/lib/python3.7/dist-packages (from transformers) (0.7.0)\n",
            "Requirement already satisfied: packaging>=20.0 in /usr/local/lib/python3.7/dist-packages (from transformers) (21.3)\n",
            "Requirement already satisfied: requests in /usr/local/lib/python3.7/dist-packages (from transformers) (2.23.0)\n",
            "Requirement already satisfied: numpy>=1.17 in /usr/local/lib/python3.7/dist-packages (from transformers) (1.21.6)\n",
            "Requirement already satisfied: tqdm>=4.27 in /usr/local/lib/python3.7/dist-packages (from transformers) (4.64.0)\n",
            "Requirement already satisfied: filelock in /usr/local/lib/python3.7/dist-packages (from transformers) (3.7.0)\n",
            "Requirement already satisfied: typing-extensions>=3.7.4.3 in /usr/local/lib/python3.7/dist-packages (from huggingface-hub<1.0,>=0.1.0->transformers) (4.2.0)\n",
            "Requirement already satisfied: pyparsing!=3.0.5,>=2.0.2 in /usr/local/lib/python3.7/dist-packages (from packaging>=20.0->transformers) (3.0.9)\n",
            "Requirement already satisfied: scipy>=0.19 in /usr/local/lib/python3.7/dist-packages (from summa) (1.4.1)\n",
            "Requirement already satisfied: breadability>=0.1.20 in /usr/local/lib/python3.7/dist-packages (from sumy) (0.1.20)\n",
            "Requirement already satisfied: docopt<0.7,>=0.6.1 in /usr/local/lib/python3.7/dist-packages (from sumy) (0.6.2)\n",
            "Requirement already satisfied: nltk>=3.0.2 in /usr/local/lib/python3.7/dist-packages (from sumy) (3.2.5)\n",
            "Requirement already satisfied: pycountry>=18.2.23 in /usr/local/lib/python3.7/dist-packages (from sumy) (22.3.5)\n",
            "Requirement already satisfied: chardet in /usr/local/lib/python3.7/dist-packages (from breadability>=0.1.20->sumy) (3.0.4)\n",
            "Requirement already satisfied: lxml>=2.0 in /usr/local/lib/python3.7/dist-packages (from breadability>=0.1.20->sumy) (4.2.6)\n",
            "Requirement already satisfied: setuptools in /usr/local/lib/python3.7/dist-packages (from pycountry>=18.2.23->sumy) (57.4.0)\n",
            "Requirement already satisfied: certifi>=2017.4.17 in /usr/local/lib/python3.7/dist-packages (from requests->transformers) (2022.5.18.1)\n",
            "Requirement already satisfied: idna<3,>=2.5 in /usr/local/lib/python3.7/dist-packages (from requests->transformers) (2.10)\n",
            "Requirement already satisfied: urllib3!=1.25.0,!=1.25.1,<1.26,>=1.21.1 in /usr/local/lib/python3.7/dist-packages (from requests->transformers) (1.24.3)\n",
            "Requirement already satisfied: zipp>=0.5 in /usr/local/lib/python3.7/dist-packages (from importlib-metadata->transformers) (3.8.0)\n"
          ]
        }
      ],
      "source": [
        "pip install rouge transformers summa sumy"
      ]
    },
    {
      "cell_type": "code",
      "source": [
        "import pandas as pd\n",
        "import numpy as np\n",
        "import re\n",
        "import math\n",
        "\n",
        "from spacy.lang.en.stop_words import STOP_WORDS\n",
        "from sklearn.cluster import Birch\n",
        "from transformers import BertTokenizer\n",
        "from google.colab import drive\n",
        "from rouge import Rouge\n",
        "\n",
        "SEQUENCE_LENGTH = 250"
      ],
      "metadata": {
        "id": "4lahJ_gRLUv_"
      },
      "execution_count": null,
      "outputs": []
    },
    {
      "cell_type": "code",
      "source": [
        "import warnings\n",
        "warnings.filterwarnings('ignore')"
      ],
      "metadata": {
        "id": "i5460c34wvIt"
      },
      "execution_count": null,
      "outputs": []
    },
    {
      "cell_type": "code",
      "source": [
        "drive.mount('/content/drive/')"
      ],
      "metadata": {
        "colab": {
          "base_uri": "https://localhost:8080/"
        },
        "id": "hKt04y7FLXUE",
        "outputId": "3c6475c1-fdbb-4fe0-f55d-ca015af4abb7"
      },
      "execution_count": null,
      "outputs": [
        {
          "output_type": "stream",
          "name": "stdout",
          "text": [
            "Drive already mounted at /content/drive/; to attempt to forcibly remount, call drive.mount(\"/content/drive/\", force_remount=True).\n"
          ]
        }
      ]
    },
    {
      "cell_type": "code",
      "source": [
        "df = pd.read_csv('drive/MyDrive/btech_capstone/data.csv')\n",
        "df = df.drop(['Unnamed: 0'], axis=1)"
      ],
      "metadata": {
        "id": "Dfncf8h0LZn6"
      },
      "execution_count": null,
      "outputs": []
    },
    {
      "cell_type": "code",
      "source": [
        "articles = df.iloc[:, 0].values\n",
        "abstracts = df.iloc[:, 1].values"
      ],
      "metadata": {
        "id": "nGLOaG1GLbR3"
      },
      "execution_count": null,
      "outputs": []
    },
    {
      "cell_type": "code",
      "source": [
        "def preprocess(text):\n",
        "    # Removing HTML tags\n",
        "    text = re.sub('<.*?>', ' ', text)\n",
        "    \n",
        "    # Removing references ([1, 2])\n",
        "    text = re.sub('\\[.*?\\]', ' ', text)\n",
        "    \n",
        "    # Removing everything inside round brackets\n",
        "    text = re.sub('\\(.*?\\)', ' ', text)\n",
        "    \n",
        "    # Removing everything except alphanumeric characters and fullstop\n",
        "    text = re.sub('[^A-Za-z0-9\\.\\%\\']', ' ', text)\n",
        "    \n",
        "    # Removing whitespaces\n",
        "    text = re.sub(' +', ' ', text)\n",
        "    \n",
        "    # splitting text into seperate sentences\n",
        "    sentences = text.split('.')\n",
        "    \n",
        "    for i, sentence in enumerate(sentences):\n",
        "        temp = [token for token in sentence.split() if token not in STOP_WORDS]\n",
        "        sentences[i] = ' '.join(word for word in temp)\n",
        "\n",
        "    return sentences\n",
        "    \n",
        "\n",
        "def filter_sentences(sentences):\n",
        "  filtered_sentences = []\n",
        "  for sentence in sentences:\n",
        "    sentence_length = len(sentence.split())\n",
        "    if sentence_length > 5:\n",
        "      filtered_sentences.append(sentence)\n",
        "  \n",
        "  return filtered_sentences"
      ],
      "metadata": {
        "id": "fMm-VXx1LeU_"
      },
      "execution_count": null,
      "outputs": []
    },
    {
      "cell_type": "code",
      "source": [
        "# preprocess then filter_sentences\n",
        "final_texts = articles[:500]\n",
        "final_summaries = abstracts[:500]\n",
        "\n",
        "preprocessed_texts = []\n",
        "preprocessed_summaries = []\n",
        "\n",
        "for text in final_texts:\n",
        "  temp = filter_sentences(preprocess(text))\n",
        "  preprocessed_texts.append(temp)\n",
        "\n",
        "for text in final_summaries:\n",
        "  temp = filter_sentences(preprocess(text))\n",
        "  preprocessed_summaries.append(temp)"
      ],
      "metadata": {
        "id": "Ns4o1qPwLhXg"
      },
      "execution_count": null,
      "outputs": []
    },
    {
      "cell_type": "markdown",
      "source": [
        "## Checking the average compression rate in the sentences"
      ],
      "metadata": {
        "id": "2TSEku2Idf8I"
      }
    },
    {
      "cell_type": "code",
      "source": [
        "sum_comp_rates = 0\n",
        "\n",
        "for i in range(500):\n",
        "  sum_comp_rates += (len(preprocessed_summaries[i]) / len(preprocessed_texts[i]))\n",
        "\n",
        "print('The average compression rate is {}'.format(sum_comp_rates/500))"
      ],
      "metadata": {
        "colab": {
          "base_uri": "https://localhost:8080/"
        },
        "id": "Qyu-eOb8d2rp",
        "outputId": "a02012bb-0556-42d7-e8e1-937583bdd663"
      },
      "execution_count": null,
      "outputs": [
        {
          "output_type": "stream",
          "name": "stdout",
          "text": [
            "The average compression rate is 0.12077654053553157\n"
          ]
        }
      ]
    },
    {
      "cell_type": "markdown",
      "source": [
        "## Embeddings"
      ],
      "metadata": {
        "id": "GhefCqVSdgc0"
      }
    },
    {
      "cell_type": "code",
      "source": [
        "tokenizer = BertTokenizer.from_pretrained(\"dmis-lab/biobert-base-cased-v1.2\")"
      ],
      "metadata": {
        "colab": {
          "base_uri": "https://localhost:8080/",
          "height": 81,
          "referenced_widgets": [
            "15f243bcfceb4336ac1cbe0a7c42a114",
            "17acb9506f044ab4bab5f5c24ed94c2a",
            "5407e587470f49f1b58430885aaed727",
            "29840dd0afe74865bf96c1b4bfd2777d",
            "1ef176e15e7f4806980ab29758f7bbe1",
            "2e91b5447ea340618150329fbc04fe3b",
            "52849f6484a04a95832e1ec10aa4b4ac",
            "754cc03e066e44299f31795a5a84b1d5",
            "96887917fba64e5d94f4f7b213b6aa7b",
            "5f2d0ba4f9ce466fb3f236853f374547",
            "e52a938b459b4e0cb7aa5edfa401bd7e",
            "210e07d5f8fd4e3984d15d19878ea4a0",
            "6c0fa443a2994a90971dd6f906667c9c",
            "e73b26596fbc4aa283c2ed63030eac27",
            "be317706e6344edcab8caaca3bc1c020",
            "1167d5b6e3fb442ca2c6129f9dd717e5",
            "ed20d815253f403bb517d5464dcca15d",
            "ab65fd3551644a15a477b44a78334a08",
            "ed5ce95c592a4768b4de2a98d6e369b1",
            "4c5c07f430fd419686ee0ea5f4aa5606",
            "9703455f867e47fc8553a2b82c6df2ff",
            "7c1dc4b304524c989b7f95da33c03db4"
          ]
        },
        "id": "Skpgtc0iLqcR",
        "outputId": "041d92e7-04ea-459f-e703-43635452ec26"
      },
      "execution_count": null,
      "outputs": [
        {
          "output_type": "display_data",
          "data": {
            "text/plain": [
              "Downloading:   0%|          | 0.00/208k [00:00<?, ?B/s]"
            ],
            "application/vnd.jupyter.widget-view+json": {
              "version_major": 2,
              "version_minor": 0,
              "model_id": "15f243bcfceb4336ac1cbe0a7c42a114"
            }
          },
          "metadata": {}
        },
        {
          "output_type": "display_data",
          "data": {
            "text/plain": [
              "Downloading:   0%|          | 0.00/1.08k [00:00<?, ?B/s]"
            ],
            "application/vnd.jupyter.widget-view+json": {
              "version_major": 2,
              "version_minor": 0,
              "model_id": "210e07d5f8fd4e3984d15d19878ea4a0"
            }
          },
          "metadata": {}
        }
      ]
    },
    {
      "cell_type": "code",
      "source": [
        "def get_embeddings(sentences):\n",
        "  sentence_embeddings = []\n",
        "  for sentence in sentences:\n",
        "    temp = tokenizer.tokenize(sentence)\n",
        "\n",
        "    # Adding [CLS] and [SEP] tokens to the end of tokenized texts\n",
        "    temp = ['[CLS]'] + temp + ['[SEP]']\n",
        "\n",
        "    if (len(temp) < SEQUENCE_LENGTH):\n",
        "      temp = temp + (['[PAD]']*(SEQUENCE_LENGTH - len(temp)))\n",
        "    else:\n",
        "      temp = temp[:SEQUENCE_LENGTH]\n",
        "    \n",
        "    embedded_sentence = tokenizer.convert_tokens_to_ids(temp)\n",
        "    sentence_embeddings.append(embedded_sentence)\n",
        "\n",
        "  return sentence_embeddings"
      ],
      "metadata": {
        "id": "ItkZ1hhxLsIf"
      },
      "execution_count": null,
      "outputs": []
    },
    {
      "cell_type": "code",
      "source": [
        "embedded_texts = []\n",
        "embedded_summaries = []\n",
        "\n",
        "for text in preprocessed_texts:\n",
        "  temp = get_embeddings(text)\n",
        "  embedded_texts.append(temp)\n",
        "\n",
        "for summary in preprocessed_summaries:\n",
        "  temp = get_embeddings(summary)\n",
        "  embedded_summaries.append(temp)"
      ],
      "metadata": {
        "id": "-sKQtC_sLu5z"
      },
      "execution_count": null,
      "outputs": []
    },
    {
      "cell_type": "code",
      "source": [
        "# Creating columns and subcolumns\n",
        "def add_top_column(df, top_col, inplace=False):\n",
        "    if not inplace:\n",
        "        df = df.copy()\n",
        "    \n",
        "    df.columns = pd.MultiIndex.from_product([[top_col], df.columns])\n",
        "    return df"
      ],
      "metadata": {
        "id": "Ibtl8NV5gb7e"
      },
      "execution_count": null,
      "outputs": []
    },
    {
      "cell_type": "code",
      "source": [
        "def get_summary(selected_article, preprocessed_text, preprocessed_summary, compression):\n",
        "  \n",
        "  cluster_scores = {\n",
        "      'Rouge 1': [],\n",
        "      'Rouge 2': [],\n",
        "      'Rouge L': []\n",
        "  }\n",
        "\n",
        "  for num_cluster in range(2, 13):\n",
        "   \n",
        "    birch_model = Birch(threshold=0.03, n_clusters=num_cluster)\n",
        "    birch_model.fit(selected_article)\n",
        "\n",
        "    # assign each data point to a cluster\n",
        "    birch_result = birch_model.predict(selected_article)\n",
        " \n",
        "    clusters_embeddings = [[] for i in range(num_cluster)]\n",
        "    clusters_sentences = [[] for i in range(num_cluster)]\n",
        "  \n",
        "    for idx, (embedding, text) in enumerate(zip(selected_article, preprocessed_text)):\n",
        "      cluster_selected = birch_result[idx]\n",
        "      clusters_embeddings[cluster_selected].append(embedding)\n",
        "      clusters_sentences[cluster_selected].append(text)\n",
        "\n",
        "    COMPRESSION_RATE = compression\n",
        "\n",
        "    # Number of sentences to be selected from each cluster\n",
        "    cluster_sentence_numbers = []\n",
        "\n",
        "    for cluster in clusters_embeddings:\n",
        "      cluster_size = len(cluster)\n",
        "      temp = math.floor(cluster_size * COMPRESSION_RATE)\n",
        "      cluster_sentence_numbers.append(temp)\n",
        "\n",
        "\n",
        "    # Now we have the number of sentences that have to be selected from each cluster\n",
        "    # Now we have to calculate the informativeness score for each sentences. It will be a list of lists, \n",
        "    # where the length will be equal to the number of clusters \n",
        "    # Initializing the informativeness score list\n",
        "\n",
        "    informativeness_scores = []\n",
        "    for i in range(num_cluster):\n",
        "      temp = [0] * len(clusters_embeddings[i])\n",
        "      informativeness_scores.append(temp)\n",
        "    \n",
        "    \n",
        "    for i in range(num_cluster):\n",
        "\n",
        "      cluster = clusters_embeddings[i]\n",
        "      CLUSTER_SIZE = len(cluster)\n",
        "\n",
        "      for j in range(len(cluster)):\n",
        "         \n",
        "        selected_text = np.array(cluster[j])\n",
        "        summation_euclidean = 0 \n",
        "\n",
        "        for k in range(len(cluster)):\n",
        "          other_text = np.array(cluster[k])\n",
        "          dist = np.linalg.norm(selected_text - other_text)\n",
        "          summation_euclidean += dist\n",
        "\n",
        "        i_score = summation_euclidean / CLUSTER_SIZE\n",
        "        i_score = 1 / i_score\n",
        "      \n",
        "        informativeness_scores[i][j] = i_score\n",
        "    \n",
        "    # Getting the summary \n",
        "    summary = []\n",
        "    for i in range(num_cluster):\n",
        "      sorted_cluster = [x for _, x in sorted(zip(informativeness_scores[i], clusters_sentences[i]))]\n",
        "      summary.append(sorted_cluster[:cluster_sentence_numbers[i]])\n",
        "    \n",
        "    flat_summary = [sentence for sublist in summary for sentence in sublist]\n",
        "\n",
        "    # Getting Rouge Score\n",
        "    rouge = Rouge()\n",
        "\n",
        "    in_sentence = ' '.join([str(item) for item in flat_summary])\n",
        "    out_sentence = ' '.join([str(item) for item in preprocessed_summary])\n",
        "    \n",
        "    scores = rouge.get_scores(in_sentence, out_sentence)\n",
        "    cluster_scores['Rouge 1'].append(scores[0]['rouge-1']['r'])\n",
        "    cluster_scores['Rouge 2'].append(scores[0]['rouge-2']['r'])\n",
        "    cluster_scores['Rouge L'].append(scores[0]['rouge-l']['r'])\n",
        "  \n",
        "  cluster_df = pd.DataFrame(cluster_scores, index = [*range(2, 13, 1)])\n",
        "  return cluster_df, flat_summary"
      ],
      "metadata": {
        "id": "uhtMtt8jPaG9"
      },
      "execution_count": null,
      "outputs": []
    },
    {
      "cell_type": "code",
      "source": [
        "rouge_results, model_summary = get_summary(embedded_texts[1], preprocessed_texts[1], preprocessed_summaries[1], 0.2)"
      ],
      "metadata": {
        "id": "5YoB_tiRkEjK"
      },
      "execution_count": null,
      "outputs": []
    },
    {
      "cell_type": "code",
      "source": [
        "rouge_results"
      ],
      "metadata": {
        "id": "96Cepc3u1ooq",
        "outputId": "8709dc5c-cc80-4a6f-ef02-f71e89d67e63",
        "colab": {
          "base_uri": "https://localhost:8080/",
          "height": 394
        }
      },
      "execution_count": null,
      "outputs": [
        {
          "output_type": "execute_result",
          "data": {
            "text/plain": [
              "     Rouge 1   Rouge 2   Rouge L\n",
              "2   0.609756  0.163265  0.341463\n",
              "3   0.609756  0.163265  0.365854\n",
              "4   0.585366  0.163265  0.292683\n",
              "5   0.585366  0.163265  0.390244\n",
              "6   0.536585  0.142857  0.414634\n",
              "7   0.512195  0.122449  0.390244\n",
              "8   0.512195  0.142857  0.341463\n",
              "9   0.512195  0.142857  0.292683\n",
              "10  0.439024  0.122449  0.292683\n",
              "11  0.487805  0.163265  0.268293\n",
              "12  0.487805  0.163265  0.268293"
            ],
            "text/html": [
              "\n",
              "  <div id=\"df-0bf6b5f3-14f3-480b-a658-65b50b112204\">\n",
              "    <div class=\"colab-df-container\">\n",
              "      <div>\n",
              "<style scoped>\n",
              "    .dataframe tbody tr th:only-of-type {\n",
              "        vertical-align: middle;\n",
              "    }\n",
              "\n",
              "    .dataframe tbody tr th {\n",
              "        vertical-align: top;\n",
              "    }\n",
              "\n",
              "    .dataframe thead th {\n",
              "        text-align: right;\n",
              "    }\n",
              "</style>\n",
              "<table border=\"1\" class=\"dataframe\">\n",
              "  <thead>\n",
              "    <tr style=\"text-align: right;\">\n",
              "      <th></th>\n",
              "      <th>Rouge 1</th>\n",
              "      <th>Rouge 2</th>\n",
              "      <th>Rouge L</th>\n",
              "    </tr>\n",
              "  </thead>\n",
              "  <tbody>\n",
              "    <tr>\n",
              "      <th>2</th>\n",
              "      <td>0.609756</td>\n",
              "      <td>0.163265</td>\n",
              "      <td>0.341463</td>\n",
              "    </tr>\n",
              "    <tr>\n",
              "      <th>3</th>\n",
              "      <td>0.609756</td>\n",
              "      <td>0.163265</td>\n",
              "      <td>0.365854</td>\n",
              "    </tr>\n",
              "    <tr>\n",
              "      <th>4</th>\n",
              "      <td>0.585366</td>\n",
              "      <td>0.163265</td>\n",
              "      <td>0.292683</td>\n",
              "    </tr>\n",
              "    <tr>\n",
              "      <th>5</th>\n",
              "      <td>0.585366</td>\n",
              "      <td>0.163265</td>\n",
              "      <td>0.390244</td>\n",
              "    </tr>\n",
              "    <tr>\n",
              "      <th>6</th>\n",
              "      <td>0.536585</td>\n",
              "      <td>0.142857</td>\n",
              "      <td>0.414634</td>\n",
              "    </tr>\n",
              "    <tr>\n",
              "      <th>7</th>\n",
              "      <td>0.512195</td>\n",
              "      <td>0.122449</td>\n",
              "      <td>0.390244</td>\n",
              "    </tr>\n",
              "    <tr>\n",
              "      <th>8</th>\n",
              "      <td>0.512195</td>\n",
              "      <td>0.142857</td>\n",
              "      <td>0.341463</td>\n",
              "    </tr>\n",
              "    <tr>\n",
              "      <th>9</th>\n",
              "      <td>0.512195</td>\n",
              "      <td>0.142857</td>\n",
              "      <td>0.292683</td>\n",
              "    </tr>\n",
              "    <tr>\n",
              "      <th>10</th>\n",
              "      <td>0.439024</td>\n",
              "      <td>0.122449</td>\n",
              "      <td>0.292683</td>\n",
              "    </tr>\n",
              "    <tr>\n",
              "      <th>11</th>\n",
              "      <td>0.487805</td>\n",
              "      <td>0.163265</td>\n",
              "      <td>0.268293</td>\n",
              "    </tr>\n",
              "    <tr>\n",
              "      <th>12</th>\n",
              "      <td>0.487805</td>\n",
              "      <td>0.163265</td>\n",
              "      <td>0.268293</td>\n",
              "    </tr>\n",
              "  </tbody>\n",
              "</table>\n",
              "</div>\n",
              "      <button class=\"colab-df-convert\" onclick=\"convertToInteractive('df-0bf6b5f3-14f3-480b-a658-65b50b112204')\"\n",
              "              title=\"Convert this dataframe to an interactive table.\"\n",
              "              style=\"display:none;\">\n",
              "        \n",
              "  <svg xmlns=\"http://www.w3.org/2000/svg\" height=\"24px\"viewBox=\"0 0 24 24\"\n",
              "       width=\"24px\">\n",
              "    <path d=\"M0 0h24v24H0V0z\" fill=\"none\"/>\n",
              "    <path d=\"M18.56 5.44l.94 2.06.94-2.06 2.06-.94-2.06-.94-.94-2.06-.94 2.06-2.06.94zm-11 1L8.5 8.5l.94-2.06 2.06-.94-2.06-.94L8.5 2.5l-.94 2.06-2.06.94zm10 10l.94 2.06.94-2.06 2.06-.94-2.06-.94-.94-2.06-.94 2.06-2.06.94z\"/><path d=\"M17.41 7.96l-1.37-1.37c-.4-.4-.92-.59-1.43-.59-.52 0-1.04.2-1.43.59L10.3 9.45l-7.72 7.72c-.78.78-.78 2.05 0 2.83L4 21.41c.39.39.9.59 1.41.59.51 0 1.02-.2 1.41-.59l7.78-7.78 2.81-2.81c.8-.78.8-2.07 0-2.86zM5.41 20L4 18.59l7.72-7.72 1.47 1.35L5.41 20z\"/>\n",
              "  </svg>\n",
              "      </button>\n",
              "      \n",
              "  <style>\n",
              "    .colab-df-container {\n",
              "      display:flex;\n",
              "      flex-wrap:wrap;\n",
              "      gap: 12px;\n",
              "    }\n",
              "\n",
              "    .colab-df-convert {\n",
              "      background-color: #E8F0FE;\n",
              "      border: none;\n",
              "      border-radius: 50%;\n",
              "      cursor: pointer;\n",
              "      display: none;\n",
              "      fill: #1967D2;\n",
              "      height: 32px;\n",
              "      padding: 0 0 0 0;\n",
              "      width: 32px;\n",
              "    }\n",
              "\n",
              "    .colab-df-convert:hover {\n",
              "      background-color: #E2EBFA;\n",
              "      box-shadow: 0px 1px 2px rgba(60, 64, 67, 0.3), 0px 1px 3px 1px rgba(60, 64, 67, 0.15);\n",
              "      fill: #174EA6;\n",
              "    }\n",
              "\n",
              "    [theme=dark] .colab-df-convert {\n",
              "      background-color: #3B4455;\n",
              "      fill: #D2E3FC;\n",
              "    }\n",
              "\n",
              "    [theme=dark] .colab-df-convert:hover {\n",
              "      background-color: #434B5C;\n",
              "      box-shadow: 0px 1px 3px 1px rgba(0, 0, 0, 0.15);\n",
              "      filter: drop-shadow(0px 1px 2px rgba(0, 0, 0, 0.3));\n",
              "      fill: #FFFFFF;\n",
              "    }\n",
              "  </style>\n",
              "\n",
              "      <script>\n",
              "        const buttonEl =\n",
              "          document.querySelector('#df-0bf6b5f3-14f3-480b-a658-65b50b112204 button.colab-df-convert');\n",
              "        buttonEl.style.display =\n",
              "          google.colab.kernel.accessAllowed ? 'block' : 'none';\n",
              "\n",
              "        async function convertToInteractive(key) {\n",
              "          const element = document.querySelector('#df-0bf6b5f3-14f3-480b-a658-65b50b112204');\n",
              "          const dataTable =\n",
              "            await google.colab.kernel.invokeFunction('convertToInteractive',\n",
              "                                                     [key], {});\n",
              "          if (!dataTable) return;\n",
              "\n",
              "          const docLinkHtml = 'Like what you see? Visit the ' +\n",
              "            '<a target=\"_blank\" href=https://colab.research.google.com/notebooks/data_table.ipynb>data table notebook</a>'\n",
              "            + ' to learn more about interactive tables.';\n",
              "          element.innerHTML = '';\n",
              "          dataTable['output_type'] = 'display_data';\n",
              "          await google.colab.output.renderOutput(dataTable, element);\n",
              "          const docLink = document.createElement('div');\n",
              "          docLink.innerHTML = docLinkHtml;\n",
              "          element.appendChild(docLink);\n",
              "        }\n",
              "      </script>\n",
              "    </div>\n",
              "  </div>\n",
              "  "
            ]
          },
          "metadata": {},
          "execution_count": 64
        }
      ]
    },
    {
      "cell_type": "code",
      "source": [
        "final_texts[1]"
      ],
      "metadata": {
        "colab": {
          "base_uri": "https://localhost:8080/",
          "height": 143
        },
        "id": "Z1F9CQgdGaSU",
        "outputId": "f1d60f6e-d32e-4b14-9984-ecd6316250c6"
      },
      "execution_count": null,
      "outputs": [
        {
          "output_type": "execute_result",
          "data": {
            "text/plain": [
              "'small non - coding rnas are transcribed into mrna but remain untranslated in eukaryotic cells . they include sirna ( small interfering rna ) , mirna ( microrna ) , pirna ( piwi - interacting rna ) and snorna ( small nucleolar rna ) . mirnas are a class of multifunctional singled - stranded small rna which are ~20  nt in length and regulate the stability or translational efficiency of targeted messenger rna depending on the base - pairing complementarity between the mirna and its target mrna [ 1 , 2 ] . although over 1,000 mirna sequences have been identified from the tissues or cells of human origin and other species , as many as 1,000 to 10,000 mirnas per genome have been predicted [ 3 , 4 ] . mirnas regulate a broad range of biological processes including timing of development , cell cycle progression , stem cell self - renewal , differentiation , cancer initiation , cancer cell proliferation , metastasis and apoptosis [ 511 ] . cancer is caused by multiple processes including uncontrolled cellular proliferation and inappropriate survival of apoptotic cells . many regulatory factors switch on or off genes that govern cell division and direct cellular proliferation . mirnas regulate gene expression and play important roles in the onset and progression of tumorigenesis . emerging evidence demonstrates the involvement of mirna in mammary gland tumorigenesis , functioning either as tumor suppressors or oncogenes . although the current treatment of radiation therapy , chemotherapy and hormone therapy slow mammary gland tumor growth , prolong survival and improve the quality of patients life , metastatic breast cancer still remains incurable due to our limited understanding of the molecular mechanisms through which tumorigenesis and metastasis occur . as small non - coding rnas regulate gene expression and tumorigenesis , they may represent a novel cancer therapy . unlike mrna , mirnas are transcribed but never translated . some mirnas are transcribed from non - coding regions between genes , deriving from independent transcription unit . other mirnas are transcribed together with coding mrnas from the coding region of the genome , deriving from the introns of gene transcripts [ 13 , 14 ] . mirna gene copy number gain / loss and mirna gene mutation have been observed in breast cancer resulting in the aberrant expression of mirna . the first study about the altered expression of mirnas in human breast cancer patients and human breast cancer cell lines was reported in 2005 by lorio et al . , in which 29 mirnas were identified with aberrant expression based on microarray and northern blot analysis of 76 breast tumor samples and 14 human breast cell lines . zhang and colleagues analyzed 283 human mirna genes on 55 human breast primary tumors and 18 human breast cancer cell lines using array - based comparative genomic hybridization . the results demonstrated a high frequency ( ~72.8% ) of gene copy number abnormality in mirna - containing regions in human breast cancer . wang et al . collected 68 patients with newly diagnosed breast cancer and examined the expression of selected mirnas in tumor and adjacent non - tumor tissues . mir-21 , mir-106a and mir-155 were significantly over - expressed in the tumor specimens compared with normal controls , whereas mir-126 , mir-199a and mir-335 were significantly decreased in expression in the tumor samples . our studies of the mir-17 - 92 cluster demonstrated decreased expression of mir-17/20 in human breast cancer specimens compared with matching normal breast tissue from the same patient . subsequent analysis identified reduced mir-17/20 expression in node - positive compared with node - negative breast cancers and demonstrated that mir-17/20 inhibited breast cancer cell migration and invasion via a heterotypic signaling . although the tendency for a global decrease of mirna expression in human cancers originally suggested a general tumor suppressor function of mirnas , subsequent studies showing the aberrant expression of specific mirnas in breast cancer suggest mirna - specific roles in breast cancer onset and progression . many distinct mirnas have been shown to regulate breast cancer cell proliferation , apoptosis , cancer stem cell expansion , and tumorigenesis . mirna may function as either tumor suppressors or oncogenes depending on the cell type , culture conditions , target genes and pathway . the involvement of mirna in mammary gland tumorigenesis has been reviewed recently [ 21 , 22 ] . le et al . described the expression pattern and regulatory network of key mirnas in breast cancer , including let-7 , mir-34 , mir-125 , mir-200 family , mir-205 , mir-21 , mir-10 and the mir-17 - 92 cluster . adams et al . reviewed the mirna regulation of estrogen signaling pathway and erbb2/her signaling pathway in breast cancer . the understanding of how mirnas are involved in breast cancer through regulating the cell cycle remains rudimentary . herein we summarize the recent literature and research progress on the mechanism by which mirnas regulate the breast cancer cell cycle and cellular proliferation ( fig .  1mirna regulation of mammary gland tumorigenesis in control of the cell cycle . through targeting different genes and different cyclin / cdk complexes , mir-17/20 and let-7 regulate the g1-s transition ; mir-21 and mir-27a regulate the g2-m checkpoint mirna regulation of mammary gland tumorigenesis in control of the cell cycle . through targeting different genes and different cyclin / cdk complexes , mir-17/20 and let-7 regulate the g1-s transition ; mir-21 and mir-27a regulate the g2-m checkpoint cyclin d1 is either overexpressed or amplified in ~50% of breast cancer . the abundance of cyclin d1 is rate - limiting in breast cancer cellular proliferation and g1-s phase transition [ 23 , 24 ] . in addition , cyclin d1 is a critical downstream target of erbb2- , ras- and -catenin- induced breast cancers , and is sufficient for the induction of mammary tumors when targeted to the mammary gland of mice . antisense inhibition of cyclin d1 expression in vivo suppressed the growth of neut - transformed mammary adenocarcinoma cells in nude mice . conserved sequences of the cyclin d1 3utr contain potential binding sites for multiple mirnas including mir-17/20/106 , mir-15/16 , mir-23 and let-7 . mir-17/20 binds the cyclin d1 3utr , inhibiting the expression of cyclin d1 , resulting in cell cycle arrest at the g1 phase and suppression of mcf-7 cell proliferation [ 18 , 26 ] . the regulation of cyclin d1 expression by mir-17 - 92 , as well as mir-15/16 , was confirmed by deshpande et al . . the let-7 family functions as a tumor suppressor in a variety of cancers including lung , colon , ovarian   and breast cancer . schultz et al . demonstrated the downregulation of cyclin d1 by mirna let-7 in control of cancer cell growth . the regulation of cyclin d1 by mirna is likely of broad importance as cyclin d1 encodes the regulatory subunit of a kinase that phosphorylates and inactivates the prb family proteins to inhibit dna synthesis , and phosphorylates nuclear respiratory factor 1 ( nrf-1 ) to inhibit mitochondria biogenesis [ 32 , 33 ] . furthermore , cyclin d1 promotes breast epithelial cell angiogenesis and migration , and promotes chromosomal instability which in turn contributes to tumorigenesis . the mir-221/222 cluster regulates the cell cycle , cell growth and epithelial - to - mesenchymal transition ( emt ) in breast cancer . mir-221/222 inhibited p27 and p57 abundance , facilitating g1-s phase transition , thereby promoting cancer cell proliferation [ 36 , 37 ] . moreover , mir-221/222 may contribute to the aggressive clinical behavior of basal - like breast cancers . the breast cancer basal - like subtype - specific mirnas , mir-221 and mir-222 , promote emt in breast cancer by targeting trps1 ( trichorhinophalangeal syndrome type 1 ) which inhibits emt by repressing zeb2 expression . mir-221 and/or mir-222 expression in mcf-7 and t47d breast cancer cells decreased er expression associated with tamoxifen resistance . the onco - mirna mir-21 is overexpressed in a wide variety of cancers including breast cancer [ 40 , 41 ] . mir-21 induced cellular proliferation , migration , invasion , emt , cancer stem cell characteristics and chemotherapy resistance in human breast cancer [ 42 , 43 ] . high mir-21 level is associated with poor prognosis , advanced stage , positive lymph node status and reduced survival time in breast cancer . mir-21 promotes mcf-7 cellular proliferation in part through inhibiting the expression of a tumor suppressor gene programmed cell death 4 ( pdcd4 ) . in colon cancer , mir-21 participates in a dna damage - induced g2-m checkpoint through suppressing the cell cycle regulator cdc25a . a recent report demonstrated the mir-21 regulates the cell cycle through targeting cdc25a in mcf-7 breast cancer cells . with a potential anti - cancer chemical 3,3-diindolylmethane treatment , mir-27a expression is upregulated in human breast cancer cell lines . in mda - mb-231 cells , mir-27a negatively regulated the zinc finger zbtb10 gene and myt-1 , thereby promoting breast cancer cell proliferation . mir-27a suppressed myt-1 , increased cdc2/cyclin b activity and promoted the g2-m checkpoint in mda - mb-231 cells . thus , distinct mirnas affect key genetic targets that govern distinct cell - cycle checkpoints including cyclins , cdks , cdk inhibitors and the g2-m regulation apparatus . in addition to cell - cycle control , breast tumor onset and progression and breast tumor stem cells are also regulated by distinct mirnas . cancer stem cells ( cscs ) are characterized by their self - renewal capacity , an ability to differentiate into non - tumorigenic cell progeny , and their ability to seed tumors when transplanted into animal hosts . cell surface markers such as cd44 , cd24 , cd133 , epithelial - specific antigen and aldehyde dehydrogenase-1 are frequently used to isolate and enrich cscs . the involvement of mirnas in regulating tumor formation by cscs or tumor - initiating cells ( t - ic ) has been widely investigated . let-7 expression is very low to undetectable level in embryonic stem cells ( es cells ) and increases with differentiation . a comparison of mirna expression between breast t - ic and non - t - ic demonstrated reduced let-7 expression in t - ic and increased abundance with differentiation . transduction of breast cscs with let-7 reduced the proportion of undifferentiated cells , inhibited cell proliferation , mammosphere formation , and tumor formation in vivo . clarke and colleagues identified 37 mirnas which were differentially expressed between human breast cscs ( cd44cd24lineage ) and lineage nontumorigenic breast cancer cells . the mir-200 family members were downregulated in human breast cscs and normal mammary stem / progenitor cells . expression of mir-200 inhibited breast cancer stem cell expansion in vitro , and suppressed the tumor formation ability of human breast cancer stem cell in vivo . ectopic mir-34c expression reduced breast t - ics self - renewal , inhibited emt and suppressed tumor cell invasiveness via silencing notch4 . zhu et al . found the reduced mir-128 expression in human breast t - ic was accompanied by bmi-1 and abcc5 overexpression , and associated with chemotherapeutic resistance and poor survival . enforced mir-128 expression increased the sensitivity of breast cancer cells to doxorubicin - induced apoptosis and dna damage . emerging evidence has demonstrated the importance of cscs in cancer initiation , cancer metastasis and drug resistance . cscs are believed to be one of the most promising targets for cure of cancer . the discovery that non - coding rnas regulate cscs widens our understanding of cscs , and may provide potential novel strategies for breast cancer therapy . deletion of chromosome 6q , including region 6q14-q16 , is frequently observed in breast cancer . the small non - coding snorna u50 is a candidate tumor suppressor gene in the 6q14 - 16 region , playing a role in the development and/or progression of breast cancer . genomic deletion and transcriptional downregulation of snorna u50 was detected in breast cancer cell lines . re - expression of snorna u50 inhibited colony formation of the human breast cancer cells hs578 t and mda - mb-231 . pirnas are small non - coding rna that form rna - protein complexes through interactions with piwi proteins . pirna was initially discovered in germ line cells , and considered as germ line - specific small rnas . emerging evidence indicates that pirna expression occurs in somatic cells [ 57 , 58 ] and piwil2 expression has been identified in human breast cancer cells . high - throughput deep sequencing identified a group of small rnas matching pirna sequences in human breast cancer tissues and breast cancer cell lines . the study of these non - coding small rnas in human cancer is just starting . the identification of the expression signature of these non - coding small rnas in breast cancer subtypes , and an understanding of their functional significance to oncogene expression , tumor initiation and tumor cell metastasis may shed important new perspectives on the role of these non - coding small rnas in breast cancer . small non - coding rna - based diagnostic and therapeutic applications for human cancer are expected in the near future . although tumor - targeted delivery and local administration are still major challenges to the practical application of gene therapy for cancer , mirna - based cancer therapeutic approaches are being established and tested in animal models . synthetic mirna mimics or mirna expression vectors have been successfully applied to restore or overexpress mirna in vitro . chemically modified lna anti - sense mirna inhibitor and other approaches have been used to block mirna function in cells . kim et al . recently reported significant anti - tumor effect of virus - mediated delivery of mir-145 combined with 5-fu to treat breast cancer . intranasal delivery of let-7   and intravenous delivery of mir-34a mimics   for non - small - cell lung cancer treatment and a virus - mediated delivery of mir-26a for liver cancer treatment in mouse model   demonstrate the promise of mirna for treatment of cancer . dysregulated expression of mirnas has implicated components of the non - coding genome as either oncogenes or tumor suppressors of breast cancer . experimental evidence has shown specific mirnas regulating the initiation , progression , metastasis and drug resistance of breast cancer via control of the cell cycle , altering cellular proliferation , altering cellular apoptosis and/or controlling the population of tumor stem cells . dysregulated mirna expression has also been observed in cancer associated fibroblasts ( caf ) and in the systemic circulation [ 65 , 66 ] . the circulating mirnas have the potential to serve as novel diagnostic and prognostic biomarkers for breast cancer . a specific subset of dysregulated mirnas in breast cancer cells may serve as targets for gene therapy either alone or as an adjuvant treatment to current clinical protocols for breast cancer patients .'"
            ],
            "application/vnd.google.colaboratory.intrinsic+json": {
              "type": "string"
            }
          },
          "metadata": {},
          "execution_count": 22
        }
      ]
    },
    {
      "cell_type": "code",
      "source": [
        "model_summary"
      ],
      "metadata": {
        "colab": {
          "base_uri": "https://localhost:8080/"
        },
        "id": "KF3wcqVRGXdf",
        "outputId": "e8598f07-3ffa-41d4-addf-881e69bdd463"
      },
      "execution_count": null,
      "outputs": [
        {
          "output_type": "execute_result",
          "data": {
            "text/plain": [
              "['cell surface markers cd44 cd24 cd133 epithelial specific antigen aldehyde dehydrogenase 1 frequently isolate enrich cscs',\n",
              " 'summarize recent literature research progress mechanism mirnas regulate breast cancer cell cycle cellular proliferation inhibit mitochondria biogenesis',\n",
              " 'dysregulated expression mirnas implicated components non coding genome oncogenes tumor suppressors breast cancer',\n",
              " 'dysregulated mirna expression observed cancer associated fibroblasts systemic circulation',\n",
              " 'high throughput deep sequencing identified group small rnas matching pirna sequences human breast cancer tissues breast cancer cell lines',\n",
              " 'cancer stem cells characterized self renewal capacity ability differentiate non tumorigenic cell progeny ability seed tumors transplanted animal hosts',\n",
              " 'zhang colleagues analyzed 283 human mirna genes 55 human breast primary tumors 18 human breast cancer cell lines array based comparative genomic hybridization',\n",
              " 'circulating mirnas potential serve novel diagnostic prognostic biomarkers breast cancer',\n",
              " 'distinct mirnas shown regulate breast cancer cell proliferation apoptosis cancer stem cell expansion tumorigenesis',\n",
              " 'colon cancer mir 21 participates dna damage induced g2 m checkpoint suppressing cell cycle regulator cdc25a',\n",
              " 'understanding mirnas involved breast cancer regulating cell cycle remains rudimentary',\n",
              " 'potential anti cancer chemical 3 3 diindolylmethane treatment mir 27a expression upregulated human breast cancer cell lines',\n",
              " '29 mirnas identified aberrant expression based microarray northern blot analysis 76 breast tumor samples 14 human breast cell lines',\n",
              " 'synthetic mirna mimics mirna expression vectors successfully applied restore overexpress mirna vitro']"
            ]
          },
          "metadata": {},
          "execution_count": 23
        }
      ]
    },
    {
      "cell_type": "code",
      "source": [
        "all_results = []\n",
        "\n",
        "for comp in [0.1, 0.12, 0.14, 0.16, 0.18, 0.2]:\n",
        "  rouge_results, _ = get_summary(embedded_texts[1], preprocessed_texts[1], preprocessed_summaries[1], comp)\n",
        "  all_results.append(rouge_results)"
      ],
      "metadata": {
        "id": "qzRxthqsifm7"
      },
      "execution_count": null,
      "outputs": []
    },
    {
      "cell_type": "code",
      "source": [
        "new_df1 = add_top_column(all_results[0], \"0.1\")\n",
        "new_df2 = add_top_column(all_results[1], \"0.12\")\n",
        "new_df3 = add_top_column(all_results[2], \"0.14\")\n",
        "new_df4 = add_top_column(all_results[3], \"0.16\")\n",
        "new_df5 = add_top_column(all_results[4], \"0.18\")\n",
        "new_df6 = add_top_column(all_results[5], \"0.2\")"
      ],
      "metadata": {
        "id": "OuYj7SQflRFX"
      },
      "execution_count": null,
      "outputs": []
    },
    {
      "cell_type": "code",
      "source": [
        "rouge_results = pd.concat([new_df1, new_df2, new_df3, new_df4, new_df5, new_df6], axis=1)"
      ],
      "metadata": {
        "id": "Z9E6F8ntlxT0"
      },
      "execution_count": null,
      "outputs": []
    },
    {
      "cell_type": "code",
      "source": [
        "rouge_results"
      ],
      "metadata": {
        "id": "lezxh87JeFdx",
        "colab": {
          "base_uri": "https://localhost:8080/",
          "height": 507
        },
        "outputId": "75af004e-bd45-4dbe-c2f5-7eaec87802fe"
      },
      "execution_count": null,
      "outputs": [
        {
          "output_type": "execute_result",
          "data": {
            "text/plain": [
              "         0.1                          0.12                          0.14  \\\n",
              "     Rouge 1   Rouge 2   Rouge L   Rouge 1   Rouge 2   Rouge L   Rouge 1   \n",
              "2   0.487805  0.142857  0.292683  0.487805  0.142857  0.292683  0.487805   \n",
              "3   0.487805  0.142857  0.243902  0.487805  0.142857  0.243902  0.487805   \n",
              "4   0.390244  0.122449  0.292683  0.390244  0.122449  0.292683  0.390244   \n",
              "5   0.463415  0.102041  0.341463  0.487805  0.122449  0.243902  0.512195   \n",
              "6   0.463415  0.102041  0.341463  0.487805  0.122449  0.243902  0.512195   \n",
              "7   0.414634  0.122449  0.243902  0.414634  0.122449  0.243902  0.439024   \n",
              "8   0.390244  0.122449  0.268293  0.414634  0.142857  0.268293  0.439024   \n",
              "9   0.365854  0.102041  0.243902  0.390244  0.122449  0.243902  0.414634   \n",
              "10  0.195122  0.061224  0.195122  0.292683  0.081633  0.243902  0.292683   \n",
              "11  0.195122  0.061224  0.195122  0.243902  0.081633  0.195122  0.268293   \n",
              "12  0.195122  0.061224  0.195122  0.243902  0.081633  0.195122  0.268293   \n",
              "\n",
              "                            0.16                          0.18            \\\n",
              "     Rouge 2   Rouge L   Rouge 1   Rouge 2   Rouge L   Rouge 1   Rouge 2   \n",
              "2   0.142857  0.292683  0.512195  0.142857  0.341463  0.585366  0.142857   \n",
              "3   0.142857  0.317073  0.512195  0.142857  0.292683  0.609756  0.142857   \n",
              "4   0.122449  0.268293  0.512195  0.142857  0.268293  0.585366  0.142857   \n",
              "5   0.122449  0.365854  0.585366  0.163265  0.268293  0.585366  0.163265   \n",
              "6   0.122449  0.365854  0.536585  0.142857  0.317073  0.536585  0.142857   \n",
              "7   0.122449  0.243902  0.512195  0.122449  0.365854  0.512195  0.122449   \n",
              "8   0.142857  0.317073  0.439024  0.142857  0.317073  0.439024  0.142857   \n",
              "9   0.122449  0.268293  0.414634  0.122449  0.268293  0.439024  0.142857   \n",
              "10  0.081633  0.243902  0.292683  0.081633  0.243902  0.365854  0.102041   \n",
              "11  0.081633  0.219512  0.341463  0.122449  0.195122  0.390244  0.142857   \n",
              "12  0.081633  0.219512  0.268293  0.081633  0.219512  0.341463  0.102041   \n",
              "\n",
              "                   0.2                      \n",
              "     Rouge L   Rouge 1   Rouge 2   Rouge L  \n",
              "2   0.341463  0.609756  0.163265  0.341463  \n",
              "3   0.341463  0.609756  0.163265  0.365854  \n",
              "4   0.268293  0.585366  0.163265  0.292683  \n",
              "5   0.292683  0.585366  0.163265  0.390244  \n",
              "6   0.292683  0.536585  0.142857  0.414634  \n",
              "7   0.268293  0.512195  0.122449  0.390244  \n",
              "8   0.317073  0.512195  0.142857  0.341463  \n",
              "9   0.268293  0.512195  0.142857  0.292683  \n",
              "10  0.268293  0.439024  0.122449  0.292683  \n",
              "11  0.268293  0.487805  0.163265  0.268293  \n",
              "12  0.268293  0.487805  0.163265  0.268293  "
            ],
            "text/html": [
              "\n",
              "  <div id=\"df-0cfb1387-67b6-4af4-bf4a-3ce81b4721d5\">\n",
              "    <div class=\"colab-df-container\">\n",
              "      <div>\n",
              "<style scoped>\n",
              "    .dataframe tbody tr th:only-of-type {\n",
              "        vertical-align: middle;\n",
              "    }\n",
              "\n",
              "    .dataframe tbody tr th {\n",
              "        vertical-align: top;\n",
              "    }\n",
              "\n",
              "    .dataframe thead tr th {\n",
              "        text-align: left;\n",
              "    }\n",
              "</style>\n",
              "<table border=\"1\" class=\"dataframe\">\n",
              "  <thead>\n",
              "    <tr>\n",
              "      <th></th>\n",
              "      <th colspan=\"3\" halign=\"left\">0.1</th>\n",
              "      <th colspan=\"3\" halign=\"left\">0.12</th>\n",
              "      <th colspan=\"3\" halign=\"left\">0.14</th>\n",
              "      <th colspan=\"3\" halign=\"left\">0.16</th>\n",
              "      <th colspan=\"3\" halign=\"left\">0.18</th>\n",
              "      <th colspan=\"3\" halign=\"left\">0.2</th>\n",
              "    </tr>\n",
              "    <tr>\n",
              "      <th></th>\n",
              "      <th>Rouge 1</th>\n",
              "      <th>Rouge 2</th>\n",
              "      <th>Rouge L</th>\n",
              "      <th>Rouge 1</th>\n",
              "      <th>Rouge 2</th>\n",
              "      <th>Rouge L</th>\n",
              "      <th>Rouge 1</th>\n",
              "      <th>Rouge 2</th>\n",
              "      <th>Rouge L</th>\n",
              "      <th>Rouge 1</th>\n",
              "      <th>Rouge 2</th>\n",
              "      <th>Rouge L</th>\n",
              "      <th>Rouge 1</th>\n",
              "      <th>Rouge 2</th>\n",
              "      <th>Rouge L</th>\n",
              "      <th>Rouge 1</th>\n",
              "      <th>Rouge 2</th>\n",
              "      <th>Rouge L</th>\n",
              "    </tr>\n",
              "  </thead>\n",
              "  <tbody>\n",
              "    <tr>\n",
              "      <th>2</th>\n",
              "      <td>0.487805</td>\n",
              "      <td>0.142857</td>\n",
              "      <td>0.292683</td>\n",
              "      <td>0.487805</td>\n",
              "      <td>0.142857</td>\n",
              "      <td>0.292683</td>\n",
              "      <td>0.487805</td>\n",
              "      <td>0.142857</td>\n",
              "      <td>0.292683</td>\n",
              "      <td>0.512195</td>\n",
              "      <td>0.142857</td>\n",
              "      <td>0.341463</td>\n",
              "      <td>0.585366</td>\n",
              "      <td>0.142857</td>\n",
              "      <td>0.341463</td>\n",
              "      <td>0.609756</td>\n",
              "      <td>0.163265</td>\n",
              "      <td>0.341463</td>\n",
              "    </tr>\n",
              "    <tr>\n",
              "      <th>3</th>\n",
              "      <td>0.487805</td>\n",
              "      <td>0.142857</td>\n",
              "      <td>0.243902</td>\n",
              "      <td>0.487805</td>\n",
              "      <td>0.142857</td>\n",
              "      <td>0.243902</td>\n",
              "      <td>0.487805</td>\n",
              "      <td>0.142857</td>\n",
              "      <td>0.317073</td>\n",
              "      <td>0.512195</td>\n",
              "      <td>0.142857</td>\n",
              "      <td>0.292683</td>\n",
              "      <td>0.609756</td>\n",
              "      <td>0.142857</td>\n",
              "      <td>0.341463</td>\n",
              "      <td>0.609756</td>\n",
              "      <td>0.163265</td>\n",
              "      <td>0.365854</td>\n",
              "    </tr>\n",
              "    <tr>\n",
              "      <th>4</th>\n",
              "      <td>0.390244</td>\n",
              "      <td>0.122449</td>\n",
              "      <td>0.292683</td>\n",
              "      <td>0.390244</td>\n",
              "      <td>0.122449</td>\n",
              "      <td>0.292683</td>\n",
              "      <td>0.390244</td>\n",
              "      <td>0.122449</td>\n",
              "      <td>0.268293</td>\n",
              "      <td>0.512195</td>\n",
              "      <td>0.142857</td>\n",
              "      <td>0.268293</td>\n",
              "      <td>0.585366</td>\n",
              "      <td>0.142857</td>\n",
              "      <td>0.268293</td>\n",
              "      <td>0.585366</td>\n",
              "      <td>0.163265</td>\n",
              "      <td>0.292683</td>\n",
              "    </tr>\n",
              "    <tr>\n",
              "      <th>5</th>\n",
              "      <td>0.463415</td>\n",
              "      <td>0.102041</td>\n",
              "      <td>0.341463</td>\n",
              "      <td>0.487805</td>\n",
              "      <td>0.122449</td>\n",
              "      <td>0.243902</td>\n",
              "      <td>0.512195</td>\n",
              "      <td>0.122449</td>\n",
              "      <td>0.365854</td>\n",
              "      <td>0.585366</td>\n",
              "      <td>0.163265</td>\n",
              "      <td>0.268293</td>\n",
              "      <td>0.585366</td>\n",
              "      <td>0.163265</td>\n",
              "      <td>0.292683</td>\n",
              "      <td>0.585366</td>\n",
              "      <td>0.163265</td>\n",
              "      <td>0.390244</td>\n",
              "    </tr>\n",
              "    <tr>\n",
              "      <th>6</th>\n",
              "      <td>0.463415</td>\n",
              "      <td>0.102041</td>\n",
              "      <td>0.341463</td>\n",
              "      <td>0.487805</td>\n",
              "      <td>0.122449</td>\n",
              "      <td>0.243902</td>\n",
              "      <td>0.512195</td>\n",
              "      <td>0.122449</td>\n",
              "      <td>0.365854</td>\n",
              "      <td>0.536585</td>\n",
              "      <td>0.142857</td>\n",
              "      <td>0.317073</td>\n",
              "      <td>0.536585</td>\n",
              "      <td>0.142857</td>\n",
              "      <td>0.292683</td>\n",
              "      <td>0.536585</td>\n",
              "      <td>0.142857</td>\n",
              "      <td>0.414634</td>\n",
              "    </tr>\n",
              "    <tr>\n",
              "      <th>7</th>\n",
              "      <td>0.414634</td>\n",
              "      <td>0.122449</td>\n",
              "      <td>0.243902</td>\n",
              "      <td>0.414634</td>\n",
              "      <td>0.122449</td>\n",
              "      <td>0.243902</td>\n",
              "      <td>0.439024</td>\n",
              "      <td>0.122449</td>\n",
              "      <td>0.243902</td>\n",
              "      <td>0.512195</td>\n",
              "      <td>0.122449</td>\n",
              "      <td>0.365854</td>\n",
              "      <td>0.512195</td>\n",
              "      <td>0.122449</td>\n",
              "      <td>0.268293</td>\n",
              "      <td>0.512195</td>\n",
              "      <td>0.122449</td>\n",
              "      <td>0.390244</td>\n",
              "    </tr>\n",
              "    <tr>\n",
              "      <th>8</th>\n",
              "      <td>0.390244</td>\n",
              "      <td>0.122449</td>\n",
              "      <td>0.268293</td>\n",
              "      <td>0.414634</td>\n",
              "      <td>0.142857</td>\n",
              "      <td>0.268293</td>\n",
              "      <td>0.439024</td>\n",
              "      <td>0.142857</td>\n",
              "      <td>0.317073</td>\n",
              "      <td>0.439024</td>\n",
              "      <td>0.142857</td>\n",
              "      <td>0.317073</td>\n",
              "      <td>0.439024</td>\n",
              "      <td>0.142857</td>\n",
              "      <td>0.317073</td>\n",
              "      <td>0.512195</td>\n",
              "      <td>0.142857</td>\n",
              "      <td>0.341463</td>\n",
              "    </tr>\n",
              "    <tr>\n",
              "      <th>9</th>\n",
              "      <td>0.365854</td>\n",
              "      <td>0.102041</td>\n",
              "      <td>0.243902</td>\n",
              "      <td>0.390244</td>\n",
              "      <td>0.122449</td>\n",
              "      <td>0.243902</td>\n",
              "      <td>0.414634</td>\n",
              "      <td>0.122449</td>\n",
              "      <td>0.268293</td>\n",
              "      <td>0.414634</td>\n",
              "      <td>0.122449</td>\n",
              "      <td>0.268293</td>\n",
              "      <td>0.439024</td>\n",
              "      <td>0.142857</td>\n",
              "      <td>0.268293</td>\n",
              "      <td>0.512195</td>\n",
              "      <td>0.142857</td>\n",
              "      <td>0.292683</td>\n",
              "    </tr>\n",
              "    <tr>\n",
              "      <th>10</th>\n",
              "      <td>0.195122</td>\n",
              "      <td>0.061224</td>\n",
              "      <td>0.195122</td>\n",
              "      <td>0.292683</td>\n",
              "      <td>0.081633</td>\n",
              "      <td>0.243902</td>\n",
              "      <td>0.292683</td>\n",
              "      <td>0.081633</td>\n",
              "      <td>0.243902</td>\n",
              "      <td>0.292683</td>\n",
              "      <td>0.081633</td>\n",
              "      <td>0.243902</td>\n",
              "      <td>0.365854</td>\n",
              "      <td>0.102041</td>\n",
              "      <td>0.268293</td>\n",
              "      <td>0.439024</td>\n",
              "      <td>0.122449</td>\n",
              "      <td>0.292683</td>\n",
              "    </tr>\n",
              "    <tr>\n",
              "      <th>11</th>\n",
              "      <td>0.195122</td>\n",
              "      <td>0.061224</td>\n",
              "      <td>0.195122</td>\n",
              "      <td>0.243902</td>\n",
              "      <td>0.081633</td>\n",
              "      <td>0.195122</td>\n",
              "      <td>0.268293</td>\n",
              "      <td>0.081633</td>\n",
              "      <td>0.219512</td>\n",
              "      <td>0.341463</td>\n",
              "      <td>0.122449</td>\n",
              "      <td>0.195122</td>\n",
              "      <td>0.390244</td>\n",
              "      <td>0.142857</td>\n",
              "      <td>0.268293</td>\n",
              "      <td>0.487805</td>\n",
              "      <td>0.163265</td>\n",
              "      <td>0.268293</td>\n",
              "    </tr>\n",
              "    <tr>\n",
              "      <th>12</th>\n",
              "      <td>0.195122</td>\n",
              "      <td>0.061224</td>\n",
              "      <td>0.195122</td>\n",
              "      <td>0.243902</td>\n",
              "      <td>0.081633</td>\n",
              "      <td>0.195122</td>\n",
              "      <td>0.268293</td>\n",
              "      <td>0.081633</td>\n",
              "      <td>0.219512</td>\n",
              "      <td>0.268293</td>\n",
              "      <td>0.081633</td>\n",
              "      <td>0.219512</td>\n",
              "      <td>0.341463</td>\n",
              "      <td>0.102041</td>\n",
              "      <td>0.268293</td>\n",
              "      <td>0.487805</td>\n",
              "      <td>0.163265</td>\n",
              "      <td>0.268293</td>\n",
              "    </tr>\n",
              "  </tbody>\n",
              "</table>\n",
              "</div>\n",
              "      <button class=\"colab-df-convert\" onclick=\"convertToInteractive('df-0cfb1387-67b6-4af4-bf4a-3ce81b4721d5')\"\n",
              "              title=\"Convert this dataframe to an interactive table.\"\n",
              "              style=\"display:none;\">\n",
              "        \n",
              "  <svg xmlns=\"http://www.w3.org/2000/svg\" height=\"24px\"viewBox=\"0 0 24 24\"\n",
              "       width=\"24px\">\n",
              "    <path d=\"M0 0h24v24H0V0z\" fill=\"none\"/>\n",
              "    <path d=\"M18.56 5.44l.94 2.06.94-2.06 2.06-.94-2.06-.94-.94-2.06-.94 2.06-2.06.94zm-11 1L8.5 8.5l.94-2.06 2.06-.94-2.06-.94L8.5 2.5l-.94 2.06-2.06.94zm10 10l.94 2.06.94-2.06 2.06-.94-2.06-.94-.94-2.06-.94 2.06-2.06.94z\"/><path d=\"M17.41 7.96l-1.37-1.37c-.4-.4-.92-.59-1.43-.59-.52 0-1.04.2-1.43.59L10.3 9.45l-7.72 7.72c-.78.78-.78 2.05 0 2.83L4 21.41c.39.39.9.59 1.41.59.51 0 1.02-.2 1.41-.59l7.78-7.78 2.81-2.81c.8-.78.8-2.07 0-2.86zM5.41 20L4 18.59l7.72-7.72 1.47 1.35L5.41 20z\"/>\n",
              "  </svg>\n",
              "      </button>\n",
              "      \n",
              "  <style>\n",
              "    .colab-df-container {\n",
              "      display:flex;\n",
              "      flex-wrap:wrap;\n",
              "      gap: 12px;\n",
              "    }\n",
              "\n",
              "    .colab-df-convert {\n",
              "      background-color: #E8F0FE;\n",
              "      border: none;\n",
              "      border-radius: 50%;\n",
              "      cursor: pointer;\n",
              "      display: none;\n",
              "      fill: #1967D2;\n",
              "      height: 32px;\n",
              "      padding: 0 0 0 0;\n",
              "      width: 32px;\n",
              "    }\n",
              "\n",
              "    .colab-df-convert:hover {\n",
              "      background-color: #E2EBFA;\n",
              "      box-shadow: 0px 1px 2px rgba(60, 64, 67, 0.3), 0px 1px 3px 1px rgba(60, 64, 67, 0.15);\n",
              "      fill: #174EA6;\n",
              "    }\n",
              "\n",
              "    [theme=dark] .colab-df-convert {\n",
              "      background-color: #3B4455;\n",
              "      fill: #D2E3FC;\n",
              "    }\n",
              "\n",
              "    [theme=dark] .colab-df-convert:hover {\n",
              "      background-color: #434B5C;\n",
              "      box-shadow: 0px 1px 3px 1px rgba(0, 0, 0, 0.15);\n",
              "      filter: drop-shadow(0px 1px 2px rgba(0, 0, 0, 0.3));\n",
              "      fill: #FFFFFF;\n",
              "    }\n",
              "  </style>\n",
              "\n",
              "      <script>\n",
              "        const buttonEl =\n",
              "          document.querySelector('#df-0cfb1387-67b6-4af4-bf4a-3ce81b4721d5 button.colab-df-convert');\n",
              "        buttonEl.style.display =\n",
              "          google.colab.kernel.accessAllowed ? 'block' : 'none';\n",
              "\n",
              "        async function convertToInteractive(key) {\n",
              "          const element = document.querySelector('#df-0cfb1387-67b6-4af4-bf4a-3ce81b4721d5');\n",
              "          const dataTable =\n",
              "            await google.colab.kernel.invokeFunction('convertToInteractive',\n",
              "                                                     [key], {});\n",
              "          if (!dataTable) return;\n",
              "\n",
              "          const docLinkHtml = 'Like what you see? Visit the ' +\n",
              "            '<a target=\"_blank\" href=https://colab.research.google.com/notebooks/data_table.ipynb>data table notebook</a>'\n",
              "            + ' to learn more about interactive tables.';\n",
              "          element.innerHTML = '';\n",
              "          dataTable['output_type'] = 'display_data';\n",
              "          await google.colab.output.renderOutput(dataTable, element);\n",
              "          const docLink = document.createElement('div');\n",
              "          docLink.innerHTML = docLinkHtml;\n",
              "          element.appendChild(docLink);\n",
              "        }\n",
              "      </script>\n",
              "    </div>\n",
              "  </div>\n",
              "  "
            ]
          },
          "metadata": {},
          "execution_count": 27
        }
      ]
    },
    {
      "cell_type": "code",
      "source": [
        "import matplotlib.pyplot as plt"
      ],
      "metadata": {
        "id": "yT7hZA6FUT74"
      },
      "execution_count": null,
      "outputs": []
    },
    {
      "cell_type": "code",
      "source": [
        "plt.figure(figsize=(8, 4))\n",
        "plt.plot(rouge_results[\"0.1\"][\"Rouge 1\"], label=\"0.1\")\n",
        "plt.plot(rouge_results[\"0.12\"][\"Rouge 1\"], label=\"0.12\")\n",
        "plt.plot(rouge_results[\"0.14\"][\"Rouge 1\"], label=\"0.14\")\n",
        "plt.plot(rouge_results[\"0.16\"][\"Rouge 1\"], label=\"0.16\")\n",
        "plt.plot(rouge_results[\"0.18\"][\"Rouge 1\"], label=\"0.18\")\n",
        "plt.plot(rouge_results[\"0.2\"][\"Rouge 1\"], label=\"0.2\")\n",
        "plt.title('Rouge scores for different hyperparameters', fontsize=12)\n",
        "plt.xlabel('Clusters', fontsize=12)\n",
        "plt.ylabel('Rouge Score', fontsize=12)\n",
        "plt.legend(loc='upper right', fontsize=12, bbox_to_anchor=(1.05, 1))\n",
        "plt.show()\n"
      ],
      "metadata": {
        "colab": {
          "base_uri": "https://localhost:8080/",
          "height": 298
        },
        "id": "yn9pVD3STzV5",
        "outputId": "063a1029-5aeb-4290-d37b-7e9a9d1f3cf1"
      },
      "execution_count": null,
      "outputs": [
        {
          "output_type": "display_data",
          "data": {
            "text/plain": [
              "<Figure size 576x288 with 1 Axes>"
            ],
            "image/png": "[encoded data removed]"
          },
          "metadata": {
            "needs_background": "light"
          }
        }
      ]
    },
    {
      "cell_type": "code",
      "source": [
        "SUMMARY_SENTENCE_LENGTH = math.floor(0.2 * len(preprocessed_texts[0]))"
      ],
      "metadata": {
        "id": "qFCqBJY_hNY7"
      },
      "execution_count": null,
      "outputs": []
    },
    {
      "cell_type": "markdown",
      "source": [
        "## SUMMA"
      ],
      "metadata": {
        "id": "fpDkC__FUaA6"
      }
    },
    {
      "cell_type": "code",
      "source": [
        "from summa import summarizer"
      ],
      "metadata": {
        "id": "a3uvTky6ha0p"
      },
      "execution_count": null,
      "outputs": []
    },
    {
      "cell_type": "code",
      "source": [
        "first_text = '. '.join([str(item) for item in model_summary])"
      ],
      "metadata": {
        "id": "EgLC2iIbijXy"
      },
      "execution_count": null,
      "outputs": []
    },
    {
      "cell_type": "code",
      "source": [
        "input_text = '. '.join([str(item) for item in preprocessed_texts[1]])"
      ],
      "metadata": {
        "id": "YI9nqNs4i6WN"
      },
      "execution_count": null,
      "outputs": []
    },
    {
      "cell_type": "code",
      "source": [
        "summa_summary = summarizer.summarize(input_text, ratio=0.2)"
      ],
      "metadata": {
        "id": "vp1WTlLsibP6"
      },
      "execution_count": null,
      "outputs": []
    },
    {
      "cell_type": "code",
      "source": [
        "second_text = summa_summary.replace('\\n', ' ')"
      ],
      "metadata": {
        "id": "FabElXgai0Gn"
      },
      "execution_count": null,
      "outputs": []
    },
    {
      "cell_type": "code",
      "source": [
        "third_text = '. '.join([str(item) for item in preprocessed_summaries[1]])"
      ],
      "metadata": {
        "id": "vv0cKQ8-pK6q"
      },
      "execution_count": null,
      "outputs": []
    },
    {
      "cell_type": "code",
      "source": [
        "rouge = Rouge()\n",
        "scores = rouge.get_scores(second_text, third_text)"
      ],
      "metadata": {
        "id": "JYpEhM4FnIZw"
      },
      "execution_count": null,
      "outputs": []
    },
    {
      "cell_type": "code",
      "source": [
        "scores"
      ],
      "metadata": {
        "colab": {
          "base_uri": "https://localhost:8080/"
        },
        "id": "TWi6i3TrolJo",
        "outputId": "83ee6b1f-6952-40e9-d65d-79952357c90c"
      },
      "execution_count": null,
      "outputs": [
        {
          "output_type": "execute_result",
          "data": {
            "text/plain": [
              "[{'rouge-1': {'f': 0.21999999674050003,\n",
              "   'p': 0.13836477987421383,\n",
              "   'r': 0.5365853658536586},\n",
              "  'rouge-2': {'f': 0.05614034802979393,\n",
              "   'p': 0.03389830508474576,\n",
              "   'r': 0.16326530612244897},\n",
              "  'rouge-l': {'f': 0.19999999674050004,\n",
              "   'p': 0.12578616352201258,\n",
              "   'r': 0.4878048780487805}}]"
            ]
          },
          "metadata": {},
          "execution_count": 38
        }
      ]
    },
    {
      "cell_type": "markdown",
      "source": [
        "## LEXRANK"
      ],
      "metadata": {
        "id": "duQsZ0sLUdAb"
      }
    },
    {
      "cell_type": "code",
      "source": [
        "import sumy\n",
        "from sumy.parsers.plaintext import PlaintextParser\n",
        "from sumy.nlp.tokenizers import Tokenizer\n",
        "from sumy.summarizers.lex_rank import LexRankSummarizer"
      ],
      "metadata": {
        "id": "tnETYwl5ZMMS"
      },
      "execution_count": null,
      "outputs": []
    },
    {
      "cell_type": "code",
      "source": [
        "import nltk \n",
        "nltk.download('punkt')"
      ],
      "metadata": {
        "colab": {
          "base_uri": "https://localhost:8080/"
        },
        "id": "1Z1XeCJIc9z4",
        "outputId": "dbc91ecf-6dea-48f4-f9a5-7c38e77edfa9"
      },
      "execution_count": null,
      "outputs": [
        {
          "output_type": "stream",
          "name": "stdout",
          "text": [
            "[nltk_data] Downloading package punkt to /root/nltk_data...\n",
            "[nltk_data]   Unzipping tokenizers/punkt.zip.\n"
          ]
        },
        {
          "output_type": "execute_result",
          "data": {
            "text/plain": [
              "True"
            ]
          },
          "metadata": {},
          "execution_count": 40
        }
      ]
    },
    {
      "cell_type": "code",
      "source": [
        "document = '. '.join([str(item) for item in preprocessed_texts[1]])"
      ],
      "metadata": {
        "id": "JDrKAjJmcehl"
      },
      "execution_count": null,
      "outputs": []
    },
    {
      "cell_type": "code",
      "source": [
        "parser = PlaintextParser.from_string(document, Tokenizer(\"english\"))"
      ],
      "metadata": {
        "id": "w4MwTbIgcoHn"
      },
      "execution_count": null,
      "outputs": []
    },
    {
      "cell_type": "code",
      "source": [
        "summarizer = LexRankSummarizer()"
      ],
      "metadata": {
        "id": "JJ3FdYmbc6jM"
      },
      "execution_count": null,
      "outputs": []
    },
    {
      "cell_type": "code",
      "source": [
        "lexrank_summary = summarizer(parser.document, SUMMARY_SENTENCE_LENGTH)"
      ],
      "metadata": {
        "id": "3BP8w4V9dQ50"
      },
      "execution_count": null,
      "outputs": []
    },
    {
      "cell_type": "code",
      "source": [
        "second_text = ' '.join([str(item) for item in lexrank_summary])"
      ],
      "metadata": {
        "id": "QcwR8Omkdgp0"
      },
      "execution_count": null,
      "outputs": []
    },
    {
      "cell_type": "code",
      "source": [
        "third_text = '. '.join([str(item) for item in preprocessed_summaries[1]])"
      ],
      "metadata": {
        "id": "JVrNtH0xd2gZ"
      },
      "execution_count": null,
      "outputs": []
    },
    {
      "cell_type": "code",
      "source": [
        "rouge = Rouge()\n",
        "scores = rouge.get_scores(second_text, third_text)"
      ],
      "metadata": {
        "id": "NHNcfsw9ebpG"
      },
      "execution_count": null,
      "outputs": []
    },
    {
      "cell_type": "code",
      "source": [
        "scores"
      ],
      "metadata": {
        "colab": {
          "base_uri": "https://localhost:8080/"
        },
        "id": "S99Dq03Peefu",
        "outputId": "3e23ae05-1e53-4d72-9619-5bb80862e7f5"
      },
      "execution_count": null,
      "outputs": [
        {
          "output_type": "execute_result",
          "data": {
            "text/plain": [
              "[{'rouge-1': {'f': 0.22641509121974016,\n",
              "   'p': 0.14035087719298245,\n",
              "   'r': 0.5853658536585366},\n",
              "  'rouge-2': {'f': 0.054545452016712695,\n",
              "   'p': 0.03202846975088968,\n",
              "   'r': 0.1836734693877551},\n",
              "  'rouge-l': {'f': 0.19811320442728736,\n",
              "   'p': 0.12280701754385964,\n",
              "   'r': 0.5121951219512195}}]"
            ]
          },
          "metadata": {},
          "execution_count": 48
        }
      ]
    },
    {
      "cell_type": "markdown",
      "source": [
        "##LUHN"
      ],
      "metadata": {
        "id": "jHp3ox2keyBU"
      }
    },
    {
      "cell_type": "code",
      "source": [
        "from sumy.summarizers.luhn import LuhnSummarizer"
      ],
      "metadata": {
        "id": "9oiUXzOUe0s2"
      },
      "execution_count": null,
      "outputs": []
    },
    {
      "cell_type": "code",
      "source": [
        "luhn_summarizer = LuhnSummarizer()"
      ],
      "metadata": {
        "id": "DH_DBnO3ggZ9"
      },
      "execution_count": null,
      "outputs": []
    },
    {
      "cell_type": "code",
      "source": [
        "luhn_summary = luhn_summarizer(parser.document, SUMMARY_SENTENCE_LENGTH)"
      ],
      "metadata": {
        "id": "pBPoKNdEgjlV"
      },
      "execution_count": null,
      "outputs": []
    },
    {
      "cell_type": "code",
      "source": [
        "second_text = ' '.join([str(item) for item in luhn_summary])"
      ],
      "metadata": {
        "id": "qPG7mMPnhwKV"
      },
      "execution_count": null,
      "outputs": []
    },
    {
      "cell_type": "code",
      "source": [
        "rouge = Rouge()\n",
        "scores = rouge.get_scores(second_text, third_text)"
      ],
      "metadata": {
        "id": "QZe1rEljhyW4"
      },
      "execution_count": null,
      "outputs": []
    },
    {
      "cell_type": "code",
      "source": [
        "scores"
      ],
      "metadata": {
        "colab": {
          "base_uri": "https://localhost:8080/"
        },
        "id": "8GrM4vDOitxs",
        "outputId": "0a37ff7e-9fef-456f-a52b-7de96b58e8d8"
      },
      "execution_count": null,
      "outputs": [
        {
          "output_type": "execute_result",
          "data": {
            "text/plain": [
              "[{'rouge-1': {'f': 0.19917012165768497, 'p': 0.12, 'r': 0.5853658536585366},\n",
              "  'rouge-2': {'f': 0.04627249137132332,\n",
              "   'p': 0.026470588235294117,\n",
              "   'r': 0.1836734693877551},\n",
              "  'rouge-l': {'f': 0.17427385609751903, 'p': 0.105, 'r': 0.5121951219512195}}]"
            ]
          },
          "metadata": {},
          "execution_count": 54
        }
      ]
    },
    {
      "cell_type": "markdown",
      "source": [
        "## LATENT SEMANTIC ANALYSIS"
      ],
      "metadata": {
        "id": "ufG51hr3kOJo"
      }
    },
    {
      "cell_type": "code",
      "source": [
        "from sumy.summarizers.lsa import LsaSummarizer"
      ],
      "metadata": {
        "id": "5rlcgStFkQ4g"
      },
      "execution_count": null,
      "outputs": []
    },
    {
      "cell_type": "code",
      "source": [
        "lsa_summarizer = LsaSummarizer()"
      ],
      "metadata": {
        "id": "l0rJ7xdJlm37"
      },
      "execution_count": null,
      "outputs": []
    },
    {
      "cell_type": "code",
      "source": [
        "lsa_summary = lsa_summarizer(parser.document, SUMMARY_SENTENCE_LENGTH)"
      ],
      "metadata": {
        "id": "qCAJDkcolqAO"
      },
      "execution_count": null,
      "outputs": []
    },
    {
      "cell_type": "code",
      "source": [
        "second_text = ' '.join([str(item) for item in lsa_summary])"
      ],
      "metadata": {
        "id": "5Jm0cSMClvrm"
      },
      "execution_count": null,
      "outputs": []
    },
    {
      "cell_type": "code",
      "source": [
        "rouge = Rouge()\n",
        "scores = rouge.get_scores(second_text, third_text)"
      ],
      "metadata": {
        "id": "ktS6by63l013"
      },
      "execution_count": null,
      "outputs": []
    },
    {
      "cell_type": "code",
      "source": [
        "scores"
      ],
      "metadata": {
        "colab": {
          "base_uri": "https://localhost:8080/"
        },
        "id": "ucIZN7cNl3Ax",
        "outputId": "2fd53f23-af89-4585-ecaa-462fe758644e"
      },
      "execution_count": null,
      "outputs": [
        {
          "output_type": "execute_result",
          "data": {
            "text/plain": [
              "[{'rouge-1': {'f': 0.2183406084140272,\n",
              "   'p': 0.13297872340425532,\n",
              "   'r': 0.6097560975609756},\n",
              "  'rouge-2': {'f': 0.0776699002440277,\n",
              "   'p': 0.046153846153846156,\n",
              "   'r': 0.24489795918367346},\n",
              "  'rouge-l': {'f': 0.20960698395987876,\n",
              "   'p': 0.1276595744680851,\n",
              "   'r': 0.5853658536585366}}]"
            ]
          },
          "metadata": {},
          "execution_count": 60
        }
      ]
    },
    {
      "cell_type": "markdown",
      "source": [
        "## Visualizing the results"
      ],
      "metadata": {
        "id": "tyWsbGAX-lj8"
      }
    },
    {
      "cell_type": "code",
      "source": [
        "import numpy as np\n",
        "import matplotlib.pyplot as plt\n",
        "\n",
        "N = 4\n",
        "baseline_scores = (0.5365, 0.5853, 0.5853, 0.4878)\n",
        "model_scores = (0.6097, 0.6097, 0.6097, 0.6097)\n",
        "\n",
        "ind = np.arange(N)  \n",
        "width = 0.35       \n",
        "\n",
        "fig, ax = plt.subplots()\n",
        "rects1 = ax.bar(ind, model_scores, width, color='blue')\n",
        "rects2 = ax.bar(ind + width, baseline_scores, width, color='orange')\n",
        "\n",
        "ax.set_ylabel('Rouge Score')\n",
        "ax.set_title('Comparison of baselines with BioBERT + Birch')\n",
        "ax.set_xticks(ind + width / 2)\n",
        "ax.set_xticklabels(('TextRank', 'LexRank', 'LSA', 'Luhns'))\n",
        "plt.show()"
      ],
      "metadata": {
        "colab": {
          "base_uri": "https://localhost:8080/"
        },
        "id": "ZeMfFyVh_opy",
        "outputId": "2e535226-46d5-4d6d-da89-fc89dd9f4dd8"
      },
      "execution_count": null,
      "outputs": [
        {
          "output_type": "display_data",
          "data": {
            "text/plain": [
              "<Figure size 432x288 with 1 Axes>"
            ],
            "image/png": "[encoded data removed]"
          },
          "metadata": {
            "needs_background": "light"
          }
        }
      ]
    }
  ]
}